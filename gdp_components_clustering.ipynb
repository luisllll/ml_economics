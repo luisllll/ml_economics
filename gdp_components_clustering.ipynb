{
 "cells": [
  {
   "cell_type": "code",
   "execution_count": 68,
   "id": "1d2a9cb1",
   "metadata": {},
   "outputs": [],
   "source": [
    "#MACROECONIMIC ANALISIS\n",
    "\n",
    "\n",
    "\n",
    "import os\n",
    "import pandas as pd\n",
    "os.getcwd()\n",
    "\n",
    "os.chdir('C:/Users/luisl/OneDrive/Escritorio/ml-scripts')"
   ]
  },
  {
   "cell_type": "code",
   "execution_count": 69,
   "id": "229c9f37",
   "metadata": {},
   "outputs": [],
   "source": [
    "\n",
    "# import data\n",
    "\n",
    "data = pd.read_excel(\"C:/Users/luisl/OneDrive/Escritorio/ml-scripts//gdp_by_sector.xlsx\",header=None) # creates a Pandas data frame for training set\n",
    "\n"
   ]
  },
  {
   "cell_type": "code",
   "execution_count": 70,
   "id": "f7950e9e",
   "metadata": {},
   "outputs": [],
   "source": [
    "\n",
    "## divide dataset  in 2010 and 2020\n",
    "\n",
    "#2010\n",
    "df_2010 = data[[0,1,3,5,7]]\n",
    "\n",
    "#transpose\n",
    "df_2010=df_2010.transpose()\n",
    "\n",
    "df_2010=df_2010.drop([1],axis=1)\n",
    "\n",
    "#drop innecesary columns by index interval\n",
    "df_2010=df_2010.drop(df_2010.iloc[:, 223:283], inplace = False, axis = 1)\n",
    "\n",
    "\n",
    "#first row as index\n",
    "df_2010=df_2010.rename(columns=df_2010.iloc[0])\n",
    "#drop row\n",
    "df_2010=df_2010.drop([0],axis=0)\n",
    "\n",
    "#FIRST COLUMN AS ROW INDEX\n",
    "df_2010=df_2010.set_index('SECTOR')\n",
    "\n",
    "#transpose d enuevo\n",
    "df_2010=df_2010.transpose()\n",
    "\n",
    "\n",
    "#2020\n",
    "\n",
    "df_2020 = data[[0,2,4,6,8]]\n",
    "#transpose\n",
    "df_2020=df_2020.transpose()\n",
    "\n",
    "df_2020=df_2020.drop([1],axis=1)\n",
    "\n",
    "#drop innecesary columns by index interval\n",
    "df_2020=df_2020.drop(df_2020.iloc[:, 223:283], inplace = False, axis = 1)\n",
    "\n",
    "\n",
    "#first row as index\n",
    "df_2020=df_2020.rename(columns=df_2020.iloc[0])\n",
    "#drop row\n",
    "df_2020=df_2020.drop([0],axis=0)\n",
    "\n",
    "#FIRST COLUMN AS ROW INDEX\n",
    "df_2020=df_2020.set_index('SECTOR')\n",
    "\n",
    "\n",
    "#transpose d enuevo\n",
    "df_2020=df_2020.transpose()"
   ]
  },
  {
   "cell_type": "code",
   "execution_count": 71,
   "id": "84b64d7f",
   "metadata": {},
   "outputs": [
    {
     "data": {
      "text/plain": [
       "<bound method NDFrame.describe of SECTOR                     Agriculture Industry Manufacturing Services\n",
       "Afghanistan                       26.2     21.2          12.5     48.9\n",
       "Albania                           18.0     24.9           5.5     44.0\n",
       "Algeria                            8.5     40.0          39.0     39.2\n",
       "American Samoa                      ..       ..           7.2       ..\n",
       "Andorra                             ..       ..            ..       ..\n",
       "...                                ...      ...           ...      ...\n",
       "Latin America & Caribbean          4.7     29.2          14.3     55.7\n",
       "Middle East & North Africa         5.8     44.6          11.7     46.3\n",
       "North America                      1.1     20.0          11.7     75.2\n",
       "South Asia                        17.5     29.1          16.5     46.5\n",
       "Sub-Saharan Africa                15.7     27.2           9.9     51.1\n",
       "\n",
       "[222 rows x 4 columns]>"
      ]
     },
     "execution_count": 71,
     "metadata": {},
     "output_type": "execute_result"
    }
   ],
   "source": [
    "\n",
    "#####EDA###########\n",
    "import seaborn as sns\n",
    "import matplotlib.pyplot as plt\n",
    "\n",
    "\n",
    "df_2010.describe\n",
    "\n",
    "\n",
    "\n"
   ]
  },
  {
   "cell_type": "code",
   "execution_count": 72,
   "id": "d0cbb792",
   "metadata": {},
   "outputs": [
    {
     "data": {
      "text/plain": [
       "SECTOR\n",
       "Agriculture      object\n",
       "Industry         object\n",
       "Manufacturing    object\n",
       "Services         object\n",
       "dtype: object"
      ]
     },
     "execution_count": 72,
     "metadata": {},
     "output_type": "execute_result"
    }
   ],
   "source": [
    "df_2010.dtypes\n"
   ]
  },
  {
   "cell_type": "code",
   "execution_count": 73,
   "id": "67c06ade",
   "metadata": {},
   "outputs": [
    {
     "data": {
      "text/plain": [
       "Index(['Agriculture', 'Industry', 'Manufacturing', 'Services'], dtype='object', name='SECTOR')"
      ]
     },
     "execution_count": 73,
     "metadata": {},
     "output_type": "execute_result"
    }
   ],
   "source": [
    "df_2010.columns\n"
   ]
  },
  {
   "cell_type": "code",
   "execution_count": 74,
   "id": "a3b616c0",
   "metadata": {},
   "outputs": [
    {
     "name": "stdout",
     "output_type": "stream",
     "text": [
      "<class 'pandas.core.frame.DataFrame'>\n",
      "Index: 222 entries, Afghanistan to Sub-Saharan Africa\n",
      "Data columns (total 4 columns):\n",
      " #   Column         Non-Null Count  Dtype \n",
      "---  ------         --------------  ----- \n",
      " 0   Agriculture    222 non-null    object\n",
      " 1   Industry       222 non-null    object\n",
      " 2   Manufacturing  222 non-null    object\n",
      " 3   Services       222 non-null    object\n",
      "dtypes: object(4)\n",
      "memory usage: 8.7+ KB\n"
     ]
    }
   ],
   "source": [
    "df_2010.info()\n"
   ]
  },
  {
   "cell_type": "code",
   "execution_count": 75,
   "id": "07006cc9",
   "metadata": {},
   "outputs": [
    {
     "data": {
      "text/html": [
       "<div>\n",
       "<style scoped>\n",
       "    .dataframe tbody tr th:only-of-type {\n",
       "        vertical-align: middle;\n",
       "    }\n",
       "\n",
       "    .dataframe tbody tr th {\n",
       "        vertical-align: top;\n",
       "    }\n",
       "\n",
       "    .dataframe thead th {\n",
       "        text-align: right;\n",
       "    }\n",
       "</style>\n",
       "<table border=\"1\" class=\"dataframe\">\n",
       "  <thead>\n",
       "    <tr style=\"text-align: right;\">\n",
       "      <th>SECTOR</th>\n",
       "      <th>Agriculture</th>\n",
       "      <th>Industry</th>\n",
       "      <th>Manufacturing</th>\n",
       "      <th>Services</th>\n",
       "    </tr>\n",
       "  </thead>\n",
       "  <tbody>\n",
       "    <tr>\n",
       "      <th>Afghanistan</th>\n",
       "      <td>26.2</td>\n",
       "      <td>21.2</td>\n",
       "      <td>12.5</td>\n",
       "      <td>48.9</td>\n",
       "    </tr>\n",
       "    <tr>\n",
       "      <th>Albania</th>\n",
       "      <td>18.0</td>\n",
       "      <td>24.9</td>\n",
       "      <td>5.5</td>\n",
       "      <td>44.0</td>\n",
       "    </tr>\n",
       "    <tr>\n",
       "      <th>Algeria</th>\n",
       "      <td>8.5</td>\n",
       "      <td>40.0</td>\n",
       "      <td>39.0</td>\n",
       "      <td>39.2</td>\n",
       "    </tr>\n",
       "    <tr>\n",
       "      <th>American Samoa</th>\n",
       "      <td>..</td>\n",
       "      <td>..</td>\n",
       "      <td>7.2</td>\n",
       "      <td>..</td>\n",
       "    </tr>\n",
       "    <tr>\n",
       "      <th>Andorra</th>\n",
       "      <td>..</td>\n",
       "      <td>..</td>\n",
       "      <td>..</td>\n",
       "      <td>..</td>\n",
       "    </tr>\n",
       "    <tr>\n",
       "      <th>...</th>\n",
       "      <td>...</td>\n",
       "      <td>...</td>\n",
       "      <td>...</td>\n",
       "      <td>...</td>\n",
       "    </tr>\n",
       "    <tr>\n",
       "      <th>Latin America &amp; Caribbean</th>\n",
       "      <td>4.7</td>\n",
       "      <td>29.2</td>\n",
       "      <td>14.3</td>\n",
       "      <td>55.7</td>\n",
       "    </tr>\n",
       "    <tr>\n",
       "      <th>Middle East &amp; North Africa</th>\n",
       "      <td>5.8</td>\n",
       "      <td>44.6</td>\n",
       "      <td>11.7</td>\n",
       "      <td>46.3</td>\n",
       "    </tr>\n",
       "    <tr>\n",
       "      <th>North America</th>\n",
       "      <td>1.1</td>\n",
       "      <td>20.0</td>\n",
       "      <td>11.7</td>\n",
       "      <td>75.2</td>\n",
       "    </tr>\n",
       "    <tr>\n",
       "      <th>South Asia</th>\n",
       "      <td>17.5</td>\n",
       "      <td>29.1</td>\n",
       "      <td>16.5</td>\n",
       "      <td>46.5</td>\n",
       "    </tr>\n",
       "    <tr>\n",
       "      <th>Sub-Saharan Africa</th>\n",
       "      <td>15.7</td>\n",
       "      <td>27.2</td>\n",
       "      <td>9.9</td>\n",
       "      <td>51.1</td>\n",
       "    </tr>\n",
       "  </tbody>\n",
       "</table>\n",
       "<p>222 rows × 4 columns</p>\n",
       "</div>"
      ],
      "text/plain": [
       "SECTOR                     Agriculture Industry Manufacturing Services\n",
       "Afghanistan                       26.2     21.2          12.5     48.9\n",
       "Albania                           18.0     24.9           5.5     44.0\n",
       "Algeria                            8.5     40.0          39.0     39.2\n",
       "American Samoa                      ..       ..           7.2       ..\n",
       "Andorra                             ..       ..            ..       ..\n",
       "...                                ...      ...           ...      ...\n",
       "Latin America & Caribbean          4.7     29.2          14.3     55.7\n",
       "Middle East & North Africa         5.8     44.6          11.7     46.3\n",
       "North America                      1.1     20.0          11.7     75.2\n",
       "South Asia                        17.5     29.1          16.5     46.5\n",
       "Sub-Saharan Africa                15.7     27.2           9.9     51.1\n",
       "\n",
       "[222 rows x 4 columns]"
      ]
     },
     "execution_count": 75,
     "metadata": {},
     "output_type": "execute_result"
    }
   ],
   "source": [
    "df_2010\n",
    "\n"
   ]
  },
  {
   "cell_type": "code",
   "execution_count": 76,
   "id": "99fe1e4a",
   "metadata": {},
   "outputs": [
    {
     "data": {
      "text/plain": [
       "(222, 4)"
      ]
     },
     "execution_count": 76,
     "metadata": {},
     "output_type": "execute_result"
    }
   ],
   "source": [
    "df_2010.shape"
   ]
  },
  {
   "cell_type": "code",
   "execution_count": 77,
   "id": "2215702e",
   "metadata": {},
   "outputs": [
    {
     "data": {
      "text/plain": [
       "<bound method NDFrame.describe of Afghanistan                   26.2\n",
       "Albania                       18.0\n",
       "Algeria                        8.5\n",
       "American Samoa                  ..\n",
       "Andorra                         ..\n",
       "                              ... \n",
       "Latin America & Caribbean      4.7\n",
       "Middle East & North Africa     5.8\n",
       "North America                  1.1\n",
       "South Asia                    17.5\n",
       "Sub-Saharan Africa            15.7\n",
       "Name: Agriculture, Length: 222, dtype: object>"
      ]
     },
     "execution_count": 77,
     "metadata": {},
     "output_type": "execute_result"
    }
   ],
   "source": [
    "df_2010['Agriculture'].describe"
   ]
  },
  {
   "cell_type": "code",
   "execution_count": 78,
   "id": "3e216e30",
   "metadata": {},
   "outputs": [
    {
     "data": {
      "text/html": [
       "<div>\n",
       "<style scoped>\n",
       "    .dataframe tbody tr th:only-of-type {\n",
       "        vertical-align: middle;\n",
       "    }\n",
       "\n",
       "    .dataframe tbody tr th {\n",
       "        vertical-align: top;\n",
       "    }\n",
       "\n",
       "    .dataframe thead th {\n",
       "        text-align: right;\n",
       "    }\n",
       "</style>\n",
       "<table border=\"1\" class=\"dataframe\">\n",
       "  <thead>\n",
       "    <tr style=\"text-align: right;\">\n",
       "      <th>SECTOR</th>\n",
       "      <th>Agriculture</th>\n",
       "      <th>Industry</th>\n",
       "      <th>Manufacturing</th>\n",
       "      <th>Services</th>\n",
       "    </tr>\n",
       "  </thead>\n",
       "  <tbody>\n",
       "    <tr>\n",
       "      <th>Afghanistan</th>\n",
       "      <td>26.2</td>\n",
       "      <td>21.2</td>\n",
       "      <td>12.5</td>\n",
       "      <td>48.9</td>\n",
       "    </tr>\n",
       "    <tr>\n",
       "      <th>Albania</th>\n",
       "      <td>18.0</td>\n",
       "      <td>24.9</td>\n",
       "      <td>5.5</td>\n",
       "      <td>44.0</td>\n",
       "    </tr>\n",
       "    <tr>\n",
       "      <th>Algeria</th>\n",
       "      <td>8.5</td>\n",
       "      <td>40.0</td>\n",
       "      <td>39.0</td>\n",
       "      <td>39.2</td>\n",
       "    </tr>\n",
       "    <tr>\n",
       "      <th>American Samoa</th>\n",
       "      <td>..</td>\n",
       "      <td>..</td>\n",
       "      <td>7.2</td>\n",
       "      <td>..</td>\n",
       "    </tr>\n",
       "    <tr>\n",
       "      <th>Andorra</th>\n",
       "      <td>..</td>\n",
       "      <td>..</td>\n",
       "      <td>..</td>\n",
       "      <td>..</td>\n",
       "    </tr>\n",
       "  </tbody>\n",
       "</table>\n",
       "</div>"
      ],
      "text/plain": [
       "SECTOR         Agriculture Industry Manufacturing Services\n",
       "Afghanistan           26.2     21.2          12.5     48.9\n",
       "Albania               18.0     24.9           5.5     44.0\n",
       "Algeria                8.5     40.0          39.0     39.2\n",
       "American Samoa          ..       ..           7.2       ..\n",
       "Andorra                 ..       ..            ..       .."
      ]
     },
     "execution_count": 78,
     "metadata": {},
     "output_type": "execute_result"
    }
   ],
   "source": [
    "df_2010.head()"
   ]
  },
  {
   "cell_type": "code",
   "execution_count": 79,
   "id": "9dbd50b6",
   "metadata": {},
   "outputs": [
    {
     "data": {
      "text/plain": [
       "'..'"
      ]
     },
     "execution_count": 79,
     "metadata": {},
     "output_type": "execute_result"
    }
   ],
   "source": [
    "df_2010['Agriculture'].values[3]\n"
   ]
  },
  {
   "cell_type": "code",
   "execution_count": 80,
   "id": "e6874228",
   "metadata": {},
   "outputs": [],
   "source": [
    "#eliminate ..\n",
    "df_2010=df_2010.replace('..',0)\n"
   ]
  },
  {
   "cell_type": "code",
   "execution_count": 81,
   "id": "f2499972",
   "metadata": {},
   "outputs": [
    {
     "data": {
      "text/plain": [
       "SECTOR\n",
       "Agriculture      False\n",
       "Industry         False\n",
       "Manufacturing    False\n",
       "Services         False\n",
       "dtype: bool"
      ]
     },
     "execution_count": 81,
     "metadata": {},
     "output_type": "execute_result"
    }
   ],
   "source": [
    "df_2010.isin(['..']).any()"
   ]
  },
  {
   "cell_type": "code",
   "execution_count": 82,
   "id": "00a39221",
   "metadata": {},
   "outputs": [],
   "source": [
    "#pasar todas las columnas a float\n",
    "for i in df_2010.columns:\n",
    "    df_2010[i]=pd.to_numeric(df_2010[i],errors='coerce')\n",
    "\n",
    "\n"
   ]
  },
  {
   "cell_type": "code",
   "execution_count": 83,
   "id": "92e36187",
   "metadata": {},
   "outputs": [
    {
     "name": "stdout",
     "output_type": "stream",
     "text": [
      "<class 'pandas.core.frame.DataFrame'>\n",
      "Index: 222 entries, Afghanistan to Sub-Saharan Africa\n",
      "Data columns (total 4 columns):\n",
      " #   Column         Non-Null Count  Dtype  \n",
      "---  ------         --------------  -----  \n",
      " 0   Agriculture    222 non-null    float64\n",
      " 1   Industry       222 non-null    float64\n",
      " 2   Manufacturing  222 non-null    float64\n",
      " 3   Services       222 non-null    float64\n",
      "dtypes: float64(4)\n",
      "memory usage: 8.7+ KB\n"
     ]
    }
   ],
   "source": [
    "df_2010.info()\n"
   ]
  },
  {
   "cell_type": "code",
   "execution_count": 84,
   "id": "8fc92f8f",
   "metadata": {},
   "outputs": [
    {
     "data": {
      "text/html": [
       "<div>\n",
       "<style scoped>\n",
       "    .dataframe tbody tr th:only-of-type {\n",
       "        vertical-align: middle;\n",
       "    }\n",
       "\n",
       "    .dataframe tbody tr th {\n",
       "        vertical-align: top;\n",
       "    }\n",
       "\n",
       "    .dataframe thead th {\n",
       "        text-align: right;\n",
       "    }\n",
       "</style>\n",
       "<table border=\"1\" class=\"dataframe\">\n",
       "  <thead>\n",
       "    <tr style=\"text-align: right;\">\n",
       "      <th>SECTOR</th>\n",
       "      <th>Agriculture</th>\n",
       "      <th>Industry</th>\n",
       "      <th>Manufacturing</th>\n",
       "      <th>Services</th>\n",
       "    </tr>\n",
       "  </thead>\n",
       "  <tbody>\n",
       "    <tr>\n",
       "      <th>Afghanistan</th>\n",
       "      <td>26.2</td>\n",
       "      <td>21.2</td>\n",
       "      <td>12.5</td>\n",
       "      <td>48.9</td>\n",
       "    </tr>\n",
       "    <tr>\n",
       "      <th>Albania</th>\n",
       "      <td>18.0</td>\n",
       "      <td>24.9</td>\n",
       "      <td>5.5</td>\n",
       "      <td>44.0</td>\n",
       "    </tr>\n",
       "    <tr>\n",
       "      <th>Algeria</th>\n",
       "      <td>8.5</td>\n",
       "      <td>40.0</td>\n",
       "      <td>39.0</td>\n",
       "      <td>39.2</td>\n",
       "    </tr>\n",
       "    <tr>\n",
       "      <th>American Samoa</th>\n",
       "      <td>0.0</td>\n",
       "      <td>0.0</td>\n",
       "      <td>7.2</td>\n",
       "      <td>0.0</td>\n",
       "    </tr>\n",
       "    <tr>\n",
       "      <th>Andorra</th>\n",
       "      <td>0.0</td>\n",
       "      <td>0.0</td>\n",
       "      <td>0.0</td>\n",
       "      <td>0.0</td>\n",
       "    </tr>\n",
       "    <tr>\n",
       "      <th>...</th>\n",
       "      <td>...</td>\n",
       "      <td>...</td>\n",
       "      <td>...</td>\n",
       "      <td>...</td>\n",
       "    </tr>\n",
       "    <tr>\n",
       "      <th>Latin America &amp; Caribbean</th>\n",
       "      <td>4.7</td>\n",
       "      <td>29.2</td>\n",
       "      <td>14.3</td>\n",
       "      <td>55.7</td>\n",
       "    </tr>\n",
       "    <tr>\n",
       "      <th>Middle East &amp; North Africa</th>\n",
       "      <td>5.8</td>\n",
       "      <td>44.6</td>\n",
       "      <td>11.7</td>\n",
       "      <td>46.3</td>\n",
       "    </tr>\n",
       "    <tr>\n",
       "      <th>North America</th>\n",
       "      <td>1.1</td>\n",
       "      <td>20.0</td>\n",
       "      <td>11.7</td>\n",
       "      <td>75.2</td>\n",
       "    </tr>\n",
       "    <tr>\n",
       "      <th>South Asia</th>\n",
       "      <td>17.5</td>\n",
       "      <td>29.1</td>\n",
       "      <td>16.5</td>\n",
       "      <td>46.5</td>\n",
       "    </tr>\n",
       "    <tr>\n",
       "      <th>Sub-Saharan Africa</th>\n",
       "      <td>15.7</td>\n",
       "      <td>27.2</td>\n",
       "      <td>9.9</td>\n",
       "      <td>51.1</td>\n",
       "    </tr>\n",
       "  </tbody>\n",
       "</table>\n",
       "<p>222 rows × 4 columns</p>\n",
       "</div>"
      ],
      "text/plain": [
       "SECTOR                      Agriculture  Industry  Manufacturing  Services\n",
       "Afghanistan                        26.2      21.2           12.5      48.9\n",
       "Albania                            18.0      24.9            5.5      44.0\n",
       "Algeria                             8.5      40.0           39.0      39.2\n",
       "American Samoa                      0.0       0.0            7.2       0.0\n",
       "Andorra                             0.0       0.0            0.0       0.0\n",
       "...                                 ...       ...            ...       ...\n",
       "Latin America & Caribbean           4.7      29.2           14.3      55.7\n",
       "Middle East & North Africa          5.8      44.6           11.7      46.3\n",
       "North America                       1.1      20.0           11.7      75.2\n",
       "South Asia                         17.5      29.1           16.5      46.5\n",
       "Sub-Saharan Africa                 15.7      27.2            9.9      51.1\n",
       "\n",
       "[222 rows x 4 columns]"
      ]
     },
     "execution_count": 84,
     "metadata": {},
     "output_type": "execute_result"
    }
   ],
   "source": [
    "df_2010\n"
   ]
  },
  {
   "cell_type": "code",
   "execution_count": 85,
   "id": "c10ef571",
   "metadata": {},
   "outputs": [
    {
     "name": "stdout",
     "output_type": "stream",
     "text": [
      "count    222.000000\n",
      "mean      10.196396\n",
      "std       11.191447\n",
      "min        0.000000\n",
      "25%        1.600000\n",
      "50%        6.250000\n",
      "75%       15.850000\n",
      "max       52.900000\n",
      "Name: Agriculture, dtype: float64\n"
     ]
    },
    {
     "name": "stderr",
     "output_type": "stream",
     "text": [
      "C:\\Users\\luisl\\anaconda3\\lib\\site-packages\\seaborn\\distributions.py:2557: FutureWarning: `distplot` is a deprecated function and will be removed in a future version. Please adapt your code to use either `displot` (a figure-level function with similar flexibility) or `histplot` (an axes-level function for histograms).\n",
      "  warnings.warn(msg, FutureWarning)\n"
     ]
    },
    {
     "data": {
      "image/png": "[encoded data removed]",
      "text/plain": [
       "<Figure size 648x576 with 1 Axes>"
      ]
     },
     "metadata": {
      "needs_background": "light"
     },
     "output_type": "display_data"
    }
   ],
   "source": [
    "\n",
    "#plots\n",
    "print(df_2010['Agriculture'].describe())\n",
    "plt.figure(figsize=(9, 8))\n",
    "sns.distplot(df_2010['Agriculture'], color='g', bins=100, hist_kws={'alpha': 0.4});"
   ]
  },
  {
   "cell_type": "code",
   "execution_count": 86,
   "id": "f71c67a7",
   "metadata": {},
   "outputs": [
    {
     "name": "stdout",
     "output_type": "stream",
     "text": [
      "count    222.000000\n",
      "mean      24.824775\n",
      "std       14.970824\n",
      "min        0.000000\n",
      "25%       16.225000\n",
      "50%       23.400000\n",
      "75%       30.575000\n",
      "max       77.500000\n",
      "Name: Industry, dtype: float64\n"
     ]
    },
    {
     "name": "stderr",
     "output_type": "stream",
     "text": [
      "C:\\Users\\luisl\\anaconda3\\lib\\site-packages\\seaborn\\distributions.py:2557: FutureWarning: `distplot` is a deprecated function and will be removed in a future version. Please adapt your code to use either `displot` (a figure-level function with similar flexibility) or `histplot` (an axes-level function for histograms).\n",
      "  warnings.warn(msg, FutureWarning)\n"
     ]
    },
    {
     "data": {
      "image/png": "[encoded data removed]",
      "text/plain": [
       "<Figure size 648x576 with 1 Axes>"
      ]
     },
     "metadata": {
      "needs_background": "light"
     },
     "output_type": "display_data"
    }
   ],
   "source": [
    "\n",
    "#plots\n",
    "print(df_2010['Industry'].describe())\n",
    "plt.figure(figsize=(9, 8))\n",
    "sns.distplot(df_2010['Industry'], color='g', bins=100, hist_kws={'alpha': 0.4});"
   ]
  },
  {
   "cell_type": "code",
   "execution_count": 87,
   "id": "e170dc70",
   "metadata": {},
   "outputs": [
    {
     "name": "stdout",
     "output_type": "stream",
     "text": [
      "count    222.000000\n",
      "mean      10.566216\n",
      "std        7.410582\n",
      "min        0.000000\n",
      "25%        5.150000\n",
      "50%       10.550000\n",
      "75%       14.850000\n",
      "max       47.300000\n",
      "Name: Manufacturing, dtype: float64\n"
     ]
    },
    {
     "name": "stderr",
     "output_type": "stream",
     "text": [
      "C:\\Users\\luisl\\anaconda3\\lib\\site-packages\\seaborn\\distributions.py:2557: FutureWarning: `distplot` is a deprecated function and will be removed in a future version. Please adapt your code to use either `displot` (a figure-level function with similar flexibility) or `histplot` (an axes-level function for histograms).\n",
      "  warnings.warn(msg, FutureWarning)\n"
     ]
    },
    {
     "data": {
      "image/png": "[encoded data removed]",
      "text/plain": [
       "<Figure size 648x576 with 1 Axes>"
      ]
     },
     "metadata": {
      "needs_background": "light"
     },
     "output_type": "display_data"
    }
   ],
   "source": [
    "\n",
    "#plots\n",
    "print(df_2010['Manufacturing'].describe())\n",
    "plt.figure(figsize=(9, 8))\n",
    "sns.distplot(df_2010['Manufacturing'], color='g', bins=100, hist_kws={'alpha': 0.4});"
   ]
  },
  {
   "cell_type": "code",
   "execution_count": 88,
   "id": "c2728ffa",
   "metadata": {},
   "outputs": [
    {
     "name": "stdout",
     "output_type": "stream",
     "text": [
      "count    222.000000\n",
      "mean      50.720270\n",
      "std       19.990629\n",
      "min        0.000000\n",
      "25%       43.525000\n",
      "50%       53.300000\n",
      "75%       63.050000\n",
      "max       94.000000\n",
      "Name: Services, dtype: float64\n"
     ]
    },
    {
     "name": "stderr",
     "output_type": "stream",
     "text": [
      "C:\\Users\\luisl\\anaconda3\\lib\\site-packages\\seaborn\\distributions.py:2557: FutureWarning: `distplot` is a deprecated function and will be removed in a future version. Please adapt your code to use either `displot` (a figure-level function with similar flexibility) or `histplot` (an axes-level function for histograms).\n",
      "  warnings.warn(msg, FutureWarning)\n"
     ]
    },
    {
     "data": {
      "image/png": "[encoded data removed]",
      "text/plain": [
       "<Figure size 648x576 with 1 Axes>"
      ]
     },
     "metadata": {
      "needs_background": "light"
     },
     "output_type": "display_data"
    }
   ],
   "source": [
    "\n",
    "#plots\n",
    "print(df_2010['Services'].describe())\n",
    "plt.figure(figsize=(9, 8))\n",
    "sns.distplot(df_2010['Services'], color='g', bins=100, hist_kws={'alpha': 0.4});"
   ]
  },
  {
   "cell_type": "code",
   "execution_count": 89,
   "id": "7e0dfd10",
   "metadata": {},
   "outputs": [
    {
     "data": {
      "image/png": "[encoded data removed]",
      "text/plain": [
       "<Figure size 1152x1440 with 4 Axes>"
      ]
     },
     "metadata": {
      "needs_background": "light"
     },
     "output_type": "display_data"
    }
   ],
   "source": [
    "#plot de todos a la vez\n",
    "\n",
    "df_2010.hist(figsize=(16, 20), bins=50, xlabelsize=8, ylabelsize=8);"
   ]
  },
  {
   "cell_type": "code",
   "execution_count": 90,
   "id": "fdbf1e39",
   "metadata": {},
   "outputs": [],
   "source": [
    "\n",
    "\n",
    "#localizar filas con 0\n",
    "rowss=df_2010.index.values.tolist()#lista de filas\n",
    "cols= df_2010.columns#lsita de columnas\n",
    "eliminar_com_0=[]\n",
    "for row in rowss:\n",
    "    for col in cols:\n",
    "        if df_2010[col][row]==0:\n",
    "            eliminar_com_0.append(row)\n",
    "            \n",
    "\n",
    "        \n",
    "        \n",
    "        "
   ]
  },
  {
   "cell_type": "code",
   "execution_count": 91,
   "id": "b5de456f",
   "metadata": {},
   "outputs": [
    {
     "data": {
      "text/plain": [
       "['American Samoa',\n",
       " 'American Samoa',\n",
       " 'American Samoa',\n",
       " 'Andorra',\n",
       " 'Andorra',\n",
       " 'Andorra',\n",
       " 'Andorra',\n",
       " 'Barbados',\n",
       " 'Barbados',\n",
       " 'Barbados',\n",
       " 'Barbados',\n",
       " 'Bulgaria',\n",
       " 'Channel Islands',\n",
       " 'Channel Islands',\n",
       " 'Channel Islands',\n",
       " 'Channel Islands',\n",
       " 'Macao SAR, China',\n",
       " 'Comoros',\n",
       " 'Djibouti',\n",
       " 'Djibouti',\n",
       " 'Djibouti',\n",
       " 'Djibouti',\n",
       " 'Eritrea',\n",
       " 'French Polynesia',\n",
       " 'French Polynesia',\n",
       " 'French Polynesia',\n",
       " 'French Polynesia',\n",
       " 'Guam',\n",
       " 'Guam',\n",
       " 'Guam',\n",
       " 'Guam',\n",
       " \"Korea, Dem. People's Rep.\",\n",
       " \"Korea, Dem. People's Rep.\",\n",
       " \"Korea, Dem. People's Rep.\",\n",
       " \"Korea, Dem. People's Rep.\",\n",
       " 'Libya',\n",
       " 'Liechtenstein',\n",
       " 'Liechtenstein',\n",
       " 'Liechtenstein',\n",
       " 'Liechtenstein',\n",
       " 'Monaco',\n",
       " 'Monaco',\n",
       " 'Northern Mariana Islands',\n",
       " 'Northern Mariana Islands',\n",
       " 'Northern Mariana Islands',\n",
       " 'Northern Mariana Islands',\n",
       " 'San Marino',\n",
       " 'San Marino',\n",
       " 'San Marino',\n",
       " 'San Marino',\n",
       " 'Singapore',\n",
       " 'Solomon Islands',\n",
       " 'Solomon Islands',\n",
       " 'Solomon Islands',\n",
       " 'Solomon Islands',\n",
       " 'Somalia',\n",
       " 'Somalia',\n",
       " 'Somalia',\n",
       " 'Somalia',\n",
       " 'St. Martin (French part)',\n",
       " 'St. Martin (French part)',\n",
       " 'St. Martin (French part)',\n",
       " 'St. Martin (French part)',\n",
       " 'Syrian Arab Republic',\n",
       " 'Turkmenistan',\n",
       " 'Tuvalu',\n",
       " 'Virgin Islands (U.S.)',\n",
       " 'Virgin Islands (U.S.)',\n",
       " 'Virgin Islands (U.S.)',\n",
       " 'Virgin Islands (U.S.)']"
      ]
     },
     "execution_count": 91,
     "metadata": {},
     "output_type": "execute_result"
    }
   ],
   "source": [
    "eliminar_com_0\n"
   ]
  },
  {
   "cell_type": "code",
   "execution_count": 92,
   "id": "0d6e4732",
   "metadata": {},
   "outputs": [],
   "source": [
    "#eliminar duplicados\n",
    "from collections import OrderedDict\n",
    "eliminar_com_0= list(OrderedDict.fromkeys(eliminar_com_0))"
   ]
  },
  {
   "cell_type": "code",
   "execution_count": 93,
   "id": "66c235cc",
   "metadata": {},
   "outputs": [
    {
     "data": {
      "text/plain": [
       "['American Samoa',\n",
       " 'Andorra',\n",
       " 'Barbados',\n",
       " 'Bulgaria',\n",
       " 'Channel Islands',\n",
       " 'Macao SAR, China',\n",
       " 'Comoros',\n",
       " 'Djibouti',\n",
       " 'Eritrea',\n",
       " 'French Polynesia',\n",
       " 'Guam',\n",
       " \"Korea, Dem. People's Rep.\",\n",
       " 'Libya',\n",
       " 'Liechtenstein',\n",
       " 'Monaco',\n",
       " 'Northern Mariana Islands',\n",
       " 'San Marino',\n",
       " 'Singapore',\n",
       " 'Solomon Islands',\n",
       " 'Somalia',\n",
       " 'St. Martin (French part)',\n",
       " 'Syrian Arab Republic',\n",
       " 'Turkmenistan',\n",
       " 'Tuvalu',\n",
       " 'Virgin Islands (U.S.)']"
      ]
     },
     "execution_count": 93,
     "metadata": {},
     "output_type": "execute_result"
    }
   ],
   "source": [
    "eliminar_com_0"
   ]
  },
  {
   "cell_type": "code",
   "execution_count": 94,
   "id": "0c51f869",
   "metadata": {},
   "outputs": [],
   "source": [
    "#eliminar las filas con 0\n",
    "for i in eliminar_com_0:\n",
    "    df_2010=df_2010.drop([i],axis=0)"
   ]
  },
  {
   "cell_type": "code",
   "execution_count": 98,
   "id": "8c5ce2c3",
   "metadata": {},
   "outputs": [
    {
     "data": {
      "text/html": [
       "<div>\n",
       "<style scoped>\n",
       "    .dataframe tbody tr th:only-of-type {\n",
       "        vertical-align: middle;\n",
       "    }\n",
       "\n",
       "    .dataframe tbody tr th {\n",
       "        vertical-align: top;\n",
       "    }\n",
       "\n",
       "    .dataframe thead th {\n",
       "        text-align: right;\n",
       "    }\n",
       "</style>\n",
       "<table border=\"1\" class=\"dataframe\">\n",
       "  <thead>\n",
       "    <tr style=\"text-align: right;\">\n",
       "      <th>SECTOR</th>\n",
       "      <th>Agriculture</th>\n",
       "      <th>Industry</th>\n",
       "      <th>Manufacturing</th>\n",
       "      <th>Services</th>\n",
       "    </tr>\n",
       "  </thead>\n",
       "  <tbody>\n",
       "    <tr>\n",
       "      <th>Afghanistan</th>\n",
       "      <td>26.2</td>\n",
       "      <td>21.2</td>\n",
       "      <td>12.5</td>\n",
       "      <td>48.9</td>\n",
       "    </tr>\n",
       "    <tr>\n",
       "      <th>Albania</th>\n",
       "      <td>18.0</td>\n",
       "      <td>24.9</td>\n",
       "      <td>5.5</td>\n",
       "      <td>44.0</td>\n",
       "    </tr>\n",
       "    <tr>\n",
       "      <th>Algeria</th>\n",
       "      <td>8.5</td>\n",
       "      <td>40.0</td>\n",
       "      <td>39.0</td>\n",
       "      <td>39.2</td>\n",
       "    </tr>\n",
       "    <tr>\n",
       "      <th>Angola</th>\n",
       "      <td>6.2</td>\n",
       "      <td>52.4</td>\n",
       "      <td>4.5</td>\n",
       "      <td>41.9</td>\n",
       "    </tr>\n",
       "    <tr>\n",
       "      <th>Antigua and Barbuda</th>\n",
       "      <td>1.6</td>\n",
       "      <td>16.2</td>\n",
       "      <td>2.2</td>\n",
       "      <td>70.7</td>\n",
       "    </tr>\n",
       "    <tr>\n",
       "      <th>...</th>\n",
       "      <td>...</td>\n",
       "      <td>...</td>\n",
       "      <td>...</td>\n",
       "      <td>...</td>\n",
       "    </tr>\n",
       "    <tr>\n",
       "      <th>Latin America &amp; Caribbean</th>\n",
       "      <td>4.7</td>\n",
       "      <td>29.2</td>\n",
       "      <td>14.3</td>\n",
       "      <td>55.7</td>\n",
       "    </tr>\n",
       "    <tr>\n",
       "      <th>Middle East &amp; North Africa</th>\n",
       "      <td>5.8</td>\n",
       "      <td>44.6</td>\n",
       "      <td>11.7</td>\n",
       "      <td>46.3</td>\n",
       "    </tr>\n",
       "    <tr>\n",
       "      <th>North America</th>\n",
       "      <td>1.1</td>\n",
       "      <td>20.0</td>\n",
       "      <td>11.7</td>\n",
       "      <td>75.2</td>\n",
       "    </tr>\n",
       "    <tr>\n",
       "      <th>South Asia</th>\n",
       "      <td>17.5</td>\n",
       "      <td>29.1</td>\n",
       "      <td>16.5</td>\n",
       "      <td>46.5</td>\n",
       "    </tr>\n",
       "    <tr>\n",
       "      <th>Sub-Saharan Africa</th>\n",
       "      <td>15.7</td>\n",
       "      <td>27.2</td>\n",
       "      <td>9.9</td>\n",
       "      <td>51.1</td>\n",
       "    </tr>\n",
       "  </tbody>\n",
       "</table>\n",
       "<p>197 rows × 4 columns</p>\n",
       "</div>"
      ],
      "text/plain": [
       "SECTOR                      Agriculture  Industry  Manufacturing  Services\n",
       "Afghanistan                        26.2      21.2           12.5      48.9\n",
       "Albania                            18.0      24.9            5.5      44.0\n",
       "Algeria                             8.5      40.0           39.0      39.2\n",
       "Angola                              6.2      52.4            4.5      41.9\n",
       "Antigua and Barbuda                 1.6      16.2            2.2      70.7\n",
       "...                                 ...       ...            ...       ...\n",
       "Latin America & Caribbean           4.7      29.2           14.3      55.7\n",
       "Middle East & North Africa          5.8      44.6           11.7      46.3\n",
       "North America                       1.1      20.0           11.7      75.2\n",
       "South Asia                         17.5      29.1           16.5      46.5\n",
       "Sub-Saharan Africa                 15.7      27.2            9.9      51.1\n",
       "\n",
       "[197 rows x 4 columns]"
      ]
     },
     "execution_count": 98,
     "metadata": {},
     "output_type": "execute_result"
    }
   ],
   "source": [
    "df_2010"
   ]
  },
  {
   "cell_type": "code",
   "execution_count": 51,
   "id": "05104a82",
   "metadata": {},
   "outputs": [
    {
     "data": {
      "text/plain": [
       "Index(['Agriculture', 'Industry', 'Manufacturing', 'Services'], dtype='object', name='SECTOR')"
      ]
     },
     "execution_count": 51,
     "metadata": {},
     "output_type": "execute_result"
    }
   ],
   "source": []
  },
  {
   "cell_type": "code",
   "execution_count": 54,
   "id": "468a4c97",
   "metadata": {},
   "outputs": [],
   "source": []
  },
  {
   "cell_type": "code",
   "execution_count": null,
   "id": "fc8bfd64",
   "metadata": {},
   "outputs": [],
   "source": []
  }
 ],
 "metadata": {
  "kernelspec": {
   "display_name": "Python 3",
   "language": "python",
   "name": "python3"
  },
  "language_info": {
   "codemirror_mode": {
    "name": "ipython",
    "version": 3
   },
   "file_extension": ".py",
   "mimetype": "text/x-python",
   "name": "python",
   "nbconvert_exporter": "python",
   "pygments_lexer": "ipython3",
   "version": "3.8.8"
  }
 },
 "nbformat": 4,
 "nbformat_minor": 5
}
