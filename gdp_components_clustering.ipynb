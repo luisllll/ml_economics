{
 "cells": [
  {
   "cell_type": "code",
   "execution_count": null,
   "id": "1d2a9cb1",
   "metadata": {},
   "outputs": [],
   "source": [
    "#MACROECONIMIC ANALISIS\n",
    "\n",
    "\n",
    "\n",
    "import os\n",
    "import pandas as pd\n",
    "import matplotlib as plt\n",
    "os.getcwd()\n",
    "\n",
    "os.chdir('C:/Users/luisl/OneDrive/Documents/GitHub/ml_economics')"
   ]
  },
  {
   "cell_type": "code",
   "execution_count": null,
   "id": "229c9f37",
   "metadata": {},
   "outputs": [],
   "source": [
    "\n",
    "# import data\n",
    "\n",
    "data = pd.read_excel(\"C:/Users/luisl/OneDrive/Documents/GitHub/ml_economics/gdp_by_sector.xlsx\",header=None) # creates a Pandas data frame for training set\n",
    "\n"
   ]
  },
  {
   "cell_type": "markdown",
   "id": "c7b30776",
   "metadata": {},
   "source": [
    "**Divide dataset in 2010 and 2020**"
   ]
  },
  {
   "cell_type": "code",
   "execution_count": null,
   "id": "f7950e9e",
   "metadata": {},
   "outputs": [],
   "source": [
    "\n",
    "## divide dataset  in 2010 and 2020\n",
    "\n",
    "#2010\n",
    "df_2010 = data[[0,1,3,5,7]]\n",
    "\n",
    "#transpose\n",
    "df_2010=df_2010.transpose()\n",
    "\n",
    "df_2010=df_2010.drop([1],axis=1)\n",
    "\n",
    "#drop innecesary columns by index interval\n",
    "df_2010=df_2010.drop(df_2010.iloc[:, 223:283], inplace = False, axis = 1)\n",
    "\n",
    "\n",
    "#first row as index\n",
    "df_2010=df_2010.rename(columns=df_2010.iloc[0])\n",
    "#drop row\n",
    "df_2010=df_2010.drop([0],axis=0)\n",
    "\n",
    "#FIRST COLUMN AS ROW INDEX\n",
    "df_2010=df_2010.set_index('SECTOR')\n",
    "\n",
    "#transpose d enuevo\n",
    "df_2010=df_2010.transpose()\n",
    "\n",
    "\n",
    "#2020\n",
    "\n",
    "df_2020 = data[[0,2,4,6,8]]\n",
    "#transpose\n",
    "df_2020=df_2020.transpose()\n",
    "\n",
    "df_2020=df_2020.drop([1],axis=1)\n",
    "\n",
    "#drop innecesary columns by index interval\n",
    "df_2020=df_2020.drop(df_2020.iloc[:, 223:283], inplace = False, axis = 1)\n",
    "\n",
    "\n",
    "#first row as index\n",
    "df_2020=df_2020.rename(columns=df_2020.iloc[0])\n",
    "#drop row\n",
    "df_2020=df_2020.drop([0],axis=0)\n",
    "\n",
    "#FIRST COLUMN AS ROW INDEX\n",
    "df_2020=df_2020.set_index('SECTOR')\n",
    "\n",
    "\n",
    "#transpose d enuevo\n",
    "df_2020=df_2020.transpose()"
   ]
  },
  {
   "cell_type": "markdown",
   "id": "e994ea11",
   "metadata": {},
   "source": [
    "**EDA**"
   ]
  },
  {
   "cell_type": "code",
   "execution_count": null,
   "id": "84b64d7f",
   "metadata": {},
   "outputs": [],
   "source": [
    "\n",
    "#####EDA###########\n",
    "import seaborn as sns\n",
    "import matplotlib.pyplot as plt\n",
    "\n",
    "\n",
    "df_2010.describe\n",
    "\n",
    "\n",
    "\n"
   ]
  },
  {
   "cell_type": "code",
   "execution_count": null,
   "id": "d0cbb792",
   "metadata": {},
   "outputs": [],
   "source": [
    "df_2010.dtypes\n"
   ]
  },
  {
   "cell_type": "code",
   "execution_count": null,
   "id": "67c06ade",
   "metadata": {},
   "outputs": [],
   "source": [
    "df_2010.columns\n"
   ]
  },
  {
   "cell_type": "code",
   "execution_count": null,
   "id": "a3b616c0",
   "metadata": {},
   "outputs": [],
   "source": [
    "df_2010.info()\n"
   ]
  },
  {
   "cell_type": "code",
   "execution_count": null,
   "id": "07006cc9",
   "metadata": {},
   "outputs": [],
   "source": [
    "df_2010\n",
    "\n"
   ]
  },
  {
   "cell_type": "code",
   "execution_count": null,
   "id": "99fe1e4a",
   "metadata": {},
   "outputs": [],
   "source": [
    "df_2010.shape"
   ]
  },
  {
   "cell_type": "code",
   "execution_count": null,
   "id": "2215702e",
   "metadata": {},
   "outputs": [],
   "source": [
    "df_2010['Agriculture'].describe"
   ]
  },
  {
   "cell_type": "code",
   "execution_count": null,
   "id": "3e216e30",
   "metadata": {},
   "outputs": [],
   "source": [
    "df_2010.head()"
   ]
  },
  {
   "cell_type": "code",
   "execution_count": null,
   "id": "9dbd50b6",
   "metadata": {},
   "outputs": [],
   "source": [
    "df_2010['Agriculture'].values[3]\n"
   ]
  },
  {
   "cell_type": "code",
   "execution_count": null,
   "id": "e6874228",
   "metadata": {},
   "outputs": [],
   "source": [
    "#eliminate ..\n",
    "df_2010=df_2010.replace('..',0)\n"
   ]
  },
  {
   "cell_type": "code",
   "execution_count": null,
   "id": "f2499972",
   "metadata": {},
   "outputs": [],
   "source": [
    "df_2010.isin(['..']).any()"
   ]
  },
  {
   "cell_type": "code",
   "execution_count": null,
   "id": "00a39221",
   "metadata": {},
   "outputs": [],
   "source": [
    "#pasar todas las columnas a float\n",
    "for i in df_2010.columns:\n",
    "    df_2010[i]=pd.to_numeric(df_2010[i],errors='coerce')\n",
    "\n",
    "\n"
   ]
  },
  {
   "cell_type": "code",
   "execution_count": null,
   "id": "92e36187",
   "metadata": {},
   "outputs": [],
   "source": [
    "df_2010.info()\n"
   ]
  },
  {
   "cell_type": "code",
   "execution_count": null,
   "id": "8fc92f8f",
   "metadata": {},
   "outputs": [],
   "source": [
    "df_2010\n"
   ]
  },
  {
   "cell_type": "code",
   "execution_count": null,
   "id": "c10ef571",
   "metadata": {},
   "outputs": [],
   "source": [
    "\n",
    "#plots\n",
    "print(df_2010['Agriculture'].describe())\n",
    "plt.figure(figsize=(9, 8))\n",
    "sns.distplot(df_2010['Agriculture'], color='g', bins=100, hist_kws={'alpha': 0.4});"
   ]
  },
  {
   "cell_type": "code",
   "execution_count": null,
   "id": "f71c67a7",
   "metadata": {},
   "outputs": [],
   "source": [
    "\n",
    "#plots\n",
    "print(df_2010['Industry'].describe())\n",
    "plt.figure(figsize=(9, 8))\n",
    "sns.distplot(df_2010['Industry'], color='g', bins=100, hist_kws={'alpha': 0.4});"
   ]
  },
  {
   "cell_type": "code",
   "execution_count": null,
   "id": "e170dc70",
   "metadata": {},
   "outputs": [],
   "source": [
    "\n",
    "#plots\n",
    "print(df_2010['Manufacturing'].describe())\n",
    "plt.figure(figsize=(9, 8))\n",
    "sns.distplot(df_2010['Manufacturing'], color='g', bins=100, hist_kws={'alpha': 0.4});"
   ]
  },
  {
   "cell_type": "code",
   "execution_count": null,
   "id": "c2728ffa",
   "metadata": {},
   "outputs": [],
   "source": [
    "\n",
    "#plots\n",
    "print(df_2010['Services'].describe())\n",
    "plt.figure(figsize=(9, 8))\n",
    "sns.distplot(df_2010['Services'], color='g', bins=100, hist_kws={'alpha': 0.4});"
   ]
  },
  {
   "cell_type": "code",
   "execution_count": null,
   "id": "7e0dfd10",
   "metadata": {},
   "outputs": [],
   "source": [
    "#plot de todos a la vez\n",
    "\n",
    "df_2010.hist(figsize=(16, 20), bins=50, xlabelsize=8, ylabelsize=8);"
   ]
  },
  {
   "cell_type": "code",
   "execution_count": null,
   "id": "fdbf1e39",
   "metadata": {},
   "outputs": [],
   "source": [
    "\n",
    "\n",
    "#localizar filas con 0\n",
    "rowss=df_2010.index.values.tolist()#lista de filas\n",
    "cols= df_2010.columns#lsita de columnas\n",
    "eliminar_com_0=[]\n",
    "for row in rowss:\n",
    "    for col in cols:\n",
    "        if df_2010[col][row]==0:\n",
    "            eliminar_com_0.append(row)\n",
    "            \n",
    "\n",
    "        \n",
    "        \n",
    "        "
   ]
  },
  {
   "cell_type": "code",
   "execution_count": null,
   "id": "b5de456f",
   "metadata": {},
   "outputs": [],
   "source": [
    "eliminar_com_0\n"
   ]
  },
  {
   "cell_type": "code",
   "execution_count": null,
   "id": "0d6e4732",
   "metadata": {},
   "outputs": [],
   "source": [
    "#eliminar duplicados\n",
    "from collections import OrderedDict\n",
    "eliminar_com_0= list(OrderedDict.fromkeys(eliminar_com_0))"
   ]
  },
  {
   "cell_type": "code",
   "execution_count": null,
   "id": "66c235cc",
   "metadata": {},
   "outputs": [],
   "source": [
    "eliminar_com_0"
   ]
  },
  {
   "cell_type": "code",
   "execution_count": null,
   "id": "0c51f869",
   "metadata": {},
   "outputs": [],
   "source": [
    "#eliminar las filas con 0\n",
    "for i in eliminar_com_0:\n",
    "    df_2010=df_2010.drop([i],axis=0)"
   ]
  },
  {
   "cell_type": "code",
   "execution_count": null,
   "id": "8c5ce2c3",
   "metadata": {},
   "outputs": [],
   "source": [
    "df_2010"
   ]
  },
  {
   "cell_type": "markdown",
   "id": "22f67070",
   "metadata": {},
   "source": [
    "**FULL DATA CLEANING**"
   ]
  },
  {
   "cell_type": "code",
   "execution_count": 29,
   "id": "05104a82",
   "metadata": {},
   "outputs": [],
   "source": [
    "#eliminate ..\n",
    "df_2020=df_2020.replace('..',0)\n",
    "\n",
    "#pasar todas las columnas a float\n",
    "for i in df_2020.columns:\n",
    "    df_2020[i]=pd.to_numeric(df_2020[i],errors='coerce')\n",
    "    \n",
    "#localizar filas con 0\n",
    "rowss=df_2020.index.values.tolist()#lista de filas\n",
    "cols= df_2020.columns#lsita de columnas\n",
    "eliminar_com_0=[]\n",
    "for row in rowss:\n",
    "    for col in cols:\n",
    "        if df_2020[col][row]==0:\n",
    "            eliminar_com_0.append(row)\n",
    "            \n",
    "\n",
    "#eliminar duplicados\n",
    "from collections import OrderedDict\n",
    "eliminar_com_0= list(OrderedDict.fromkeys(eliminar_com_0))\n",
    "\n",
    "\n",
    "#eliminar las filas con 0\n",
    "for i in eliminar_com_0:\n",
    "    df_2020=df_2020.drop([i],axis=0)"
   ]
  },
  {
   "cell_type": "markdown",
   "id": "28928ce6",
   "metadata": {},
   "source": [
    "##KMEANS"
   ]
  },
  {
   "cell_type": "code",
   "execution_count": 38,
   "id": "fc8bfd64",
   "metadata": {},
   "outputs": [],
   "source": [
    "import numpy as np\n",
    "from sklearn.decomposition import PCA\n",
    "from sklearn.preprocessing import StandardScaler\n",
    "from sklearn import metrics\n",
    "from sklearn.model_selection import ParameterGrid\n",
    "from sklearn.cluster import KMeans\n",
    "\n"
   ]
  },
  {
   "cell_type": "markdown",
   "id": "5d989ab1",
   "metadata": {},
   "source": [
    "codigo alternativo"
   ]
  },
  {
   "cell_type": "markdown",
   "id": "36e9f5e2",
   "metadata": {},
   "source": [
    "from sklearn.cluster import KMeans\n",
    "wcss = []\n",
    "\n",
    "for k in range(1,15):\n",
    "    kmeans = KMeans(n_clusters=k)\n",
    "    kmeans.fit(df_2010)\n",
    "    wcss.append(kmeans.inertia_)\n",
    "\n",
    "\n",
    "plt.figure(figsize=(20,8))\n",
    "plt.title(\"WCSS / K Chart\", fontsize=18)\n",
    "plt.plot(range(1,15),wcss,\"-o\")\n",
    "plt.grid(True)\n",
    "plt.xlabel(\"Amount of Clusters\",fontsize=14)\n",
    "plt.ylabel(\"Inertia\",fontsize=14)\n",
    "plt.xticks(range(1,20))\n",
    "plt.tight_layout()\n",
    "plt.show()"
   ]
  },
  {
   "cell_type": "markdown",
   "id": "118ff71e",
   "metadata": {},
   "source": [
    "range_n_clusters = list (range(2,10))\n",
    "\n",
    "\n",
    "for n_clusters in range_n_clusters:\n",
    "    clusterer = KMeans (n_clusters=n_clusters).fit(df_2010)\n",
    "    preds = clusterer.predict(df_2010)\n",
    "    centers = clusterer.cluster_centers_\n",
    "    score = silhouette_score(df_2010, preds)\n",
    "    print(\"For n_clusters = {}, silhouette score is {})\".format(n_clusters, score))"
   ]
  },
  {
   "cell_type": "markdown",
   "id": "0ff46be2",
   "metadata": {},
   "source": [
    "no necesitamos es calalr los datos porque estan en la misma dimension\n",
    "\n",
    "si fuera necesario:\n",
    "# Scaling the data to keep the different attributes in same range.\n",
    "    df_2010[df_2010.columns] = StandardScaler().fit_transform(df_2010)\n",
    "    print(df_2010.describe())"
   ]
  },
  {
   "cell_type": "markdown",
   "id": "c97060cb",
   "metadata": {},
   "source": [
    "##PCA"
   ]
  },
  {
   "cell_type": "code",
   "execution_count": 42,
   "id": "6cdcbecc",
   "metadata": {},
   "outputs": [
    {
     "name": "stdout",
     "output_type": "stream",
     "text": [
      "Explained variation per principal component: [0.55488847 0.35562811]\n",
      "Cumulative variance explained by 2 principal components: 91.05%\n"
     ]
    }
   ],
   "source": [
    "pca_2 = PCA(n_components=2)\n",
    "pca_2_result = pca_2.fit_transform(df_2010)\n",
    "print('Explained variation per principal component: {}'.format(pca_2.explained_variance_ratio_))\n",
    "\n",
    "# >> Explained variation per principal component: [0.36198848 0.1920749 ]\n",
    "\n",
    "print('Cumulative variance explained by 2 principal components: {:.2%}'.format(np.sum(pca_2.explained_variance_ratio_)))\n"
   ]
  },
  {
   "cell_type": "markdown",
   "id": "ac697d28",
   "metadata": {},
   "source": [
    "Gdrid search de n clusters con silhoute score"
   ]
  },
  {
   "cell_type": "code",
   "execution_count": 44,
   "id": "8043d315",
   "metadata": {},
   "outputs": [
    {
     "data": {
      "text/plain": [
       "array([[ 3.11492252e+00,  1.65647849e+01],\n",
       "       [ 6.84155743e+00,  1.09461273e+01],\n",
       "       [ 2.40359586e+01, -7.69237207e+00],\n",
       "       [ 2.46329578e+01, -1.11136139e+01],\n",
       "       [-2.10348961e+01, -5.92809146e+00],\n",
       "       [ 1.70485889e+00, -1.93108609e+00],\n",
       "       [ 8.10874373e+00,  8.27179077e+00],\n",
       "       [-2.02744688e+01, -6.65930256e+00],\n",
       "       [-1.05170135e+01, -9.16976876e+00],\n",
       "       [-6.68847913e+00, -1.02501750e+01],\n",
       "       [ 3.95510839e+01, -1.07826416e+01],\n",
       "       [-3.17305424e+01, -7.38167969e+00],\n",
       "       [ 1.19220597e+01, -1.75432668e+01],\n",
       "       [ 1.52901329e+00,  5.34892262e+00],\n",
       "       [ 1.54246286e+01, -3.92838088e+00],\n",
       "       [-1.41826011e+01, -9.63724659e+00],\n",
       "       [-8.59827125e+00,  2.42772819e+00],\n",
       "       [ 4.00410457e+00,  1.93874392e+01],\n",
       "       [-4.08919269e+01, -7.95375430e+00],\n",
       "       [ 2.41974052e+01,  7.44341888e-01],\n",
       "       [ 1.03566080e+01,  1.59210970e+00],\n",
       "       [-3.82415677e+00, -1.32538713e+00],\n",
       "       [ 1.42365334e+00, -8.49730744e+00],\n",
       "       [-4.92491126e+00, -4.82242502e+00],\n",
       "       [ 4.29697918e+01, -2.20662905e+01],\n",
       "       [ 1.08924777e+01,  1.47669073e+01],\n",
       "       [ 9.13188685e+00,  3.34747405e+01],\n",
       "       [-1.15121965e+01,  7.95540148e-01],\n",
       "       [ 1.26744379e+01,  2.54240069e+01],\n",
       "       [ 3.94825760e+00,  6.38778620e+00],\n",
       "       [-9.51981598e+00, -1.06283358e+01],\n",
       "       [-3.96388582e+01, -7.76073199e+00],\n",
       "       [ 2.19579353e+01,  2.92669741e+01],\n",
       "       [ 1.01701765e+01,  4.82880612e+01],\n",
       "       [ 6.34959527e+00, -9.47245367e+00],\n",
       "       [ 2.36870801e+01, -1.07397505e+01],\n",
       "       [-4.21105989e+01, -8.98814875e+00],\n",
       "       [ 3.96115670e+00, -5.91151788e+00],\n",
       "       [ 2.42761115e+01,  7.95919807e+00],\n",
       "       [ 4.54508576e+01, -1.44049498e+01],\n",
       "       [-7.39476963e+00, -4.62374199e+00],\n",
       "       [ 5.92028527e+00,  1.64162837e+01],\n",
       "       [-7.77723789e+00, -4.96604423e+00],\n",
       "       [-1.55769336e+01, -1.03344901e+01],\n",
       "       [-2.59496063e+01, -8.95036681e+00],\n",
       "       [-2.22884158e+01, -5.44106733e+00],\n",
       "       [ 3.79930112e+00, -1.24742979e+01],\n",
       "       [-1.36230148e+01, -7.60318212e+00],\n",
       "       [-1.50376130e+01,  7.48438414e+00],\n",
       "       [-2.43571353e+00, -6.47091305e+00],\n",
       "       [ 8.19260279e+00, -4.00590529e+00],\n",
       "       [ 1.33873101e+01, -5.24800637e-01],\n",
       "       [-4.04154856e+00, -4.66666001e+00],\n",
       "       [ 5.35505096e+01, -2.31197382e+01],\n",
       "       [-5.83694874e+00, -6.98369626e+00],\n",
       "       [ 1.42553638e+01, -7.58863223e+00],\n",
       "       [ 1.34384422e+00,  3.80555380e+01],\n",
       "       [-1.10109496e+01,  8.94986925e+00],\n",
       "       [-8.30504439e+00,  2.57332865e+00],\n",
       "       [-3.53699031e+00, -8.69451745e+00],\n",
       "       [-1.87376793e+01, -7.98439342e+00],\n",
       "       [ 3.60985420e+01, -1.26644423e+01],\n",
       "       [-4.53474610e+00,  3.04460623e+01],\n",
       "       [-1.30357492e+01,  5.84569289e-01],\n",
       "       [-5.41255965e+00, -1.17875650e+01],\n",
       "       [ 8.34106731e-01,  2.07498139e+01],\n",
       "       [-2.05271308e+01, -4.94037497e+00],\n",
       "       [-1.40842132e+01,  3.80397369e+00],\n",
       "       [-1.97465788e+01, -2.34715299e+00],\n",
       "       [-1.55965848e+00, -2.86759261e+00],\n",
       "       [ 1.28619491e+01,  6.29788857e+00],\n",
       "       [ 7.16634952e+00,  3.87980721e+01],\n",
       "       [ 1.01120834e+01,  2.00036505e+01],\n",
       "       [ 1.47644043e+00,  9.19672456e+00],\n",
       "       [-3.91702429e+00, -1.59724657e+00],\n",
       "       [-2.35209045e+00, -7.18098259e+00],\n",
       "       [-8.52560457e+00, -3.89034461e+00],\n",
       "       [ 1.15623303e+01,  5.16875067e+00],\n",
       "       [ 2.29637762e+01, -2.63234179e+00],\n",
       "       [ 1.39014258e+01, -1.11301263e+01],\n",
       "       [ 2.79813035e+01, -1.25202769e+01],\n",
       "       [-1.08988175e+01, -1.13066319e+01],\n",
       "       [-4.16825995e+01, -1.07588380e+01],\n",
       "       [-1.33609302e+01, -8.78663654e+00],\n",
       "       [-1.22309209e+01, -9.02364753e+00],\n",
       "       [-1.54251731e+01, -3.39515811e+00],\n",
       "       [-1.01348577e+01, -1.51371030e+01],\n",
       "       [-3.15184183e+00, -8.15702704e+00],\n",
       "       [ 1.05787613e+01, -1.08972790e+01],\n",
       "       [-5.88195594e+00,  8.60568192e+00],\n",
       "       [-1.49183474e+01,  1.58085026e+01],\n",
       "       [ 6.25496801e+00, -1.30859192e+01],\n",
       "       [ 6.90716508e+00,  1.26824689e+00],\n",
       "       [ 2.93893840e+01, -2.42795259e+01],\n",
       "       [ 5.59928527e+00,  6.26887657e+00],\n",
       "       [ 1.23398009e+01,  1.10767706e+01],\n",
       "       [-1.19422164e+01, -5.51733886e+00],\n",
       "       [-2.23091584e+01, -4.17638867e+00],\n",
       "       [ 3.39919170e+00, -7.05801519e+00],\n",
       "       [-7.34954988e+00,  4.03947371e+01],\n",
       "       [-4.76632548e+00, -8.79139842e+00],\n",
       "       [-3.01408234e+01, -7.50382012e+00],\n",
       "       [ 9.57520569e-01,  2.10175667e+01],\n",
       "       [-2.76582009e-02,  2.29472420e+01],\n",
       "       [ 1.54842052e+01, -7.26690576e+00],\n",
       "       [-2.99823461e+01, -1.70820108e+00],\n",
       "       [ 1.38672478e+01,  2.64820531e+01],\n",
       "       [-1.77632418e+01, -7.80714054e+00],\n",
       "       [-2.15952280e+01,  2.72010502e+00],\n",
       "       [ 1.85644371e+01,  4.50603837e+00],\n",
       "       [-9.12162181e+00, -6.78671919e+00],\n",
       "       [-6.34967260e-01, -1.13907044e+01],\n",
       "       [-1.67048929e+01,  2.03285244e+01],\n",
       "       [-3.99252475e+00,  3.65817956e+00],\n",
       "       [ 1.10286320e+01,  1.40354220e+00],\n",
       "       [-1.04590580e+01,  2.02480183e+00],\n",
       "       [ 3.13099066e+00,  2.65400163e+00],\n",
       "       [ 1.02674795e+00,  2.04182478e+01],\n",
       "       [ 1.72134271e+01,  2.61187635e+01],\n",
       "       [ 9.46788306e-01, -2.12767445e+00],\n",
       "       [ 2.99492098e-01,  2.74032819e+01],\n",
       "       [-1.57650975e+01, -8.04457056e+00],\n",
       "       [-9.77764665e+00, -9.73869795e+00],\n",
       "       [-1.11529542e+01, -3.72973067e+00],\n",
       "       [ 5.76046045e-01,  7.69763788e+00],\n",
       "       [ 1.47862343e+01,  2.86481634e+01],\n",
       "       [ 3.20900335e+00,  1.30257702e+01],\n",
       "       [-4.20367301e+00,  2.31195444e+00],\n",
       "       [ 4.98943363e+00, -1.00148201e+01],\n",
       "       [ 3.33866008e+01, -2.06541293e+01],\n",
       "       [-1.01430604e+00,  1.36447714e+01],\n",
       "       [-2.98143877e+01, -2.52192803e+00],\n",
       "       [-2.01353762e+01, -6.91541213e+00],\n",
       "       [ 1.19924511e+01,  8.56933400e+00],\n",
       "       [ 1.34325390e+01,  1.17747819e-01],\n",
       "       [ 1.04279421e+01, -6.46908891e+00],\n",
       "       [ 6.46695105e+00, -1.90058331e+00],\n",
       "       [-6.90783273e-02, -8.51700891e+00],\n",
       "       [-1.37230756e+01, -7.53528011e+00],\n",
       "       [ 2.45981008e+01, -2.35252640e+01],\n",
       "       [ 4.82975210e+01, -2.31134000e+01],\n",
       "       [ 1.47049804e+01, -9.25505935e+00],\n",
       "       [ 2.64077465e+00, -7.30841230e+00],\n",
       "       [-1.76857528e+00,  1.78255624e+01],\n",
       "       [-1.82849977e+01, -1.36639359e+00],\n",
       "       [-1.52856813e+01,  1.34189304e+00],\n",
       "       [ 3.10176485e+01, -1.70573811e+01],\n",
       "       [-1.96622948e-02,  6.49448560e+00],\n",
       "       [ 1.41195036e+00, -2.31363856e+00],\n",
       "       [-1.99051937e+01, -4.47859176e+00],\n",
       "       [ 6.35790778e+00,  5.03436691e+01],\n",
       "       [-2.86600888e+01, -7.69311240e+00],\n",
       "       [-2.37826643e-01, -1.14913673e+01],\n",
       "       [-3.26209168e+00, -9.28362859e+00],\n",
       "       [-8.54897450e+00, -9.76438192e+00],\n",
       "       [ 3.58938602e+01, -1.30660991e+01],\n",
       "       [-1.17178563e+01, -8.75240440e+00],\n",
       "       [ 8.76254754e-01, -2.83592184e+00],\n",
       "       [-1.31810432e+01, -9.47842725e+00],\n",
       "       [-2.58376530e+01, -4.16809643e+00],\n",
       "       [-1.43756887e+01, -4.76632782e-01],\n",
       "       [ 1.58042387e+01,  2.81846226e+01],\n",
       "       [ 1.17541223e+01, -4.65357370e+00],\n",
       "       [-8.40297854e+00, -9.05573405e+00],\n",
       "       [-1.30482959e+01, -1.34673425e+01],\n",
       "       [ 6.98698051e+00,  1.11467074e+01],\n",
       "       [ 8.07188758e+00,  1.73271992e+01],\n",
       "       [ 1.55025732e+01, -8.18640556e+00],\n",
       "       [-2.11542546e+01,  1.73344827e+01],\n",
       "       [-6.76986813e+00,  2.00162686e+01],\n",
       "       [-4.79170776e+00,  9.87484764e+00],\n",
       "       [ 2.43932144e+01, -1.97868188e+01],\n",
       "       [ 1.23609511e+00, -5.66003736e+00],\n",
       "       [-8.23906285e-01, -9.02522995e-01],\n",
       "       [-3.33226558e+01, -8.59964969e+00],\n",
       "       [ 9.90212657e+00,  2.03439015e+01],\n",
       "       [-1.35776531e+00, -2.72422923e+00],\n",
       "       [ 2.09789839e+01, -1.75321119e+01],\n",
       "       [-1.82068360e+01, -9.16035924e+00],\n",
       "       [-2.14963743e+01, -1.12926891e+01],\n",
       "       [-4.00002812e+00, -3.28305045e+00],\n",
       "       [ 9.36278251e+00,  2.04140062e+01],\n",
       "       [-1.37113478e+01,  1.23573647e+01],\n",
       "       [ 2.51124513e+01, -9.98459239e+00],\n",
       "       [ 1.79069054e+01,  8.86899695e+00],\n",
       "       [-7.46791481e+00,  1.41796979e+00],\n",
       "       [ 3.02628108e+01, -1.10645086e+00],\n",
       "       [ 4.38437258e+00, -2.65719117e+00],\n",
       "       [-6.53060872e+00,  1.29320409e+00],\n",
       "       [-5.37854348e+00, -9.21677503e+00],\n",
       "       [ 5.79197895e+00, -1.15497483e+01],\n",
       "       [-9.48319296e+00, -8.79656222e+00],\n",
       "       [ 6.66759134e-01, -6.88900483e+00],\n",
       "       [ 1.73626441e+01, -1.01434089e+01],\n",
       "       [-2.03950872e+01, -1.11521131e+01],\n",
       "       [ 9.41963552e+00,  5.94253403e+00],\n",
       "       [ 3.57425658e+00,  4.98785200e+00]])"
      ]
     },
     "execution_count": 44,
     "metadata": {},
     "output_type": "execute_result"
    }
   ],
   "source": [
    "pca_2_"
   ]
  },
  {
   "cell_type": "code",
   "execution_count": 46,
   "id": "a866d658",
   "metadata": {},
   "outputs": [
    {
     "name": "stdout",
     "output_type": "stream",
     "text": [
      "Parameter: {'n_clusters': 2} Score 0.3724359764934301\n",
      "Parameter: {'n_clusters': 3} Score 0.45126223615399147\n",
      "Parameter: {'n_clusters': 4} Score 0.39381653683792817\n",
      "Parameter: {'n_clusters': 5} Score 0.37061313016195424\n",
      "Parameter: {'n_clusters': 10} Score 0.3702031436510131\n",
      "Parameter: {'n_clusters': 15} Score 0.38695562102622755\n",
      "Parameter: {'n_clusters': 20} Score 0.3924979541096525\n",
      "Parameter: {'n_clusters': 25} Score 0.3963828216272844\n",
      "Parameter: {'n_clusters': 30} Score 0.3806167825620104\n",
      "Parameter: {'n_clusters': 35} Score 0.3799107054376549\n",
      "Parameter: {'n_clusters': 40} Score 0.38586779449375785\n"
     ]
    },
    {
     "data": {
      "image/png": "[encoded data removed]",
      "text/plain": [
       "<Figure size 432x288 with 1 Axes>"
      ]
     },
     "metadata": {
      "needs_background": "light"
     },
     "output_type": "display_data"
    }
   ],
   "source": [
    "parameters = [2, 3, 4, 5, 10, 15, 20, 25, 30, 35, 40]\n",
    "\n",
    "parameter_grid = ParameterGrid({'n_clusters': parameters})\n",
    "best_score = -1\n",
    "kmeans_model = KMeans()     # instantiating KMeans model\n",
    "silhouette_scores = []\n",
    "# evaluation based on silhouette_score\n",
    "for p in parameter_grid:\n",
    "    kmeans_model.set_params(**p)    # set current hyper parameter\n",
    "    kmeans_model.fit(pca_2_result)          \n",
    "    ss = metrics.silhouette_score(pca_2_result, kmeans_model.labels_)   # calculate silhouette_score\n",
    "    silhouette_scores += [ss]       # store all the scores\n",
    "    print('Parameter:', p, 'Score', ss)\n",
    "    # check p which has the best score\n",
    "    if ss > best_score:\n",
    "        best_score = ss\n",
    "        best_grid = p\n",
    "# plotting silhouette score\n",
    "plt.bar(range(len(silhouette_scores)), list(silhouette_scores), align='center', color='#722f59', width=0.5)\n",
    "plt.xticks(range(len(silhouette_scores)), list(parameters))\n",
    "plt.title('Silhouette Score', fontweight='bold')\n",
    "plt.xlabel('Number of Clusters')\n",
    "plt.show()"
   ]
  },
  {
   "cell_type": "code",
   "execution_count": 50,
   "id": "856b6428",
   "metadata": {},
   "outputs": [
    {
     "data": {
      "text/plain": [
       "KMeans(n_clusters=2)"
      ]
     },
     "execution_count": 50,
     "metadata": {},
     "output_type": "execute_result"
    }
   ],
   "source": [
    "kmeans = KMeans(n_clusters=2)   \n",
    "kmeans.fit(pca_2_result)"
   ]
  },
  {
   "cell_type": "code",
   "execution_count": 52,
   "id": "e02cd4fb",
   "metadata": {},
   "outputs": [],
   "source": [
    "def visualizing_results(pca_result, label, centroids_pca):\n",
    "    \"\"\" Visualizing the clusters\n",
    "    :param pca_result: PCA applied data\n",
    "    :param label: K Means labels\n",
    "    :param centroids_pca: PCA format K Means centroids\n",
    "    \"\"\"\n",
    "    # ------------------ Using Matplotlib for plotting-----------------------\n",
    "    x = pca_result[:, 0]\n",
    "    y = pca_result[:, 1]\n",
    "\n",
    "    plt.scatter(x, y, c=label, alpha=0.5, s= 200)  # plot different colors per cluster\n",
    "    plt.title('Wine clusters')\n",
    "    plt.xlabel('PCA 1')\n",
    "    plt.ylabel('PCA 2')\n",
    "\n",
    "    plt.scatter(centroids_pca[:, 0], centroids_pca[:, 1], marker='X', s=200, linewidths=1.5,\n",
    "                color='red', edgecolors=\"black\", lw=1.5)\n",
    "\n",
    "    plt.show()"
   ]
  },
  {
   "cell_type": "code",
   "execution_count": 53,
   "id": "5183cb7c",
   "metadata": {},
   "outputs": [
    {
     "ename": "NameError",
     "evalue": "name 'label' is not defined",
     "output_type": "error",
     "traceback": [
      "\u001b[1;31m---------------------------------------------------------------------------\u001b[0m",
      "\u001b[1;31mNameError\u001b[0m                                 Traceback (most recent call last)",
      "\u001b[1;32m<ipython-input-53-5426392ca3bf>\u001b[0m in \u001b[0;36m<module>\u001b[1;34m\u001b[0m\n\u001b[1;32m----> 1\u001b[1;33m \u001b[0mvisualizing_results\u001b[0m\u001b[1;33m(\u001b[0m\u001b[0mpca_2_result\u001b[0m\u001b[1;33m,\u001b[0m\u001b[0mlabel\u001b[0m\u001b[1;33m,\u001b[0m\u001b[0mcentroids_pca\u001b[0m\u001b[1;33m)\u001b[0m\u001b[1;33m\u001b[0m\u001b[1;33m\u001b[0m\u001b[0m\n\u001b[0m",
      "\u001b[1;31mNameError\u001b[0m: name 'label' is not defined"
     ]
    }
   ],
   "source": [
    "visualizing_results(pca_2_result,label,centroids_pca)"
   ]
  }
 ],
 "metadata": {
  "interpreter": {
   "hash": "2fcce922fe50eb1904bd60f0fb2c9b28ec67322cdf7edd0fffb5da479a131337"
  },
  "kernelspec": {
   "display_name": "gpu2",
   "language": "python",
   "name": "python3"
  },
  "language_info": {
   "codemirror_mode": {
    "name": "ipython",
    "version": 3
   },
   "file_extension": ".py",
   "mimetype": "text/x-python",
   "name": "python",
   "nbconvert_exporter": "python",
   "pygments_lexer": "ipython3",
   "version": "3.8.8"
  }
 },
 "nbformat": 4,
 "nbformat_minor": 5
}
