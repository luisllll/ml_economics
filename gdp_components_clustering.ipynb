{
 "cells": [
  {
   "cell_type": "code",
   "execution_count": 375,
   "id": "1d2a9cb1",
   "metadata": {},
   "outputs": [],
   "source": [
    "#MACROECONIMIC ANALISIS\n",
    "\n",
    "\n",
    "\n",
    "import os\n",
    "import pandas as pd\n",
    "import matplotlib as plt\n",
    "os.getcwd()\n",
    "\n",
    "os.chdir('C:/Users/luisl/OneDrive/Documents/GitHub/ml_economics')"
   ]
  },
  {
   "cell_type": "code",
   "execution_count": 376,
   "id": "229c9f37",
   "metadata": {},
   "outputs": [],
   "source": [
    "\n",
    "# import data\n",
    "\n",
    "data = pd.read_excel(\"C:/Users/luisl/OneDrive/Documents/GitHub/ml_economics/gdp_by_sector.xlsx\",header=None) # creates a Pandas data frame for training set\n",
    "\n"
   ]
  },
  {
   "cell_type": "markdown",
   "id": "c7b30776",
   "metadata": {},
   "source": [
    "**Divide dataset in 2010 and 2020**"
   ]
  },
  {
   "cell_type": "code",
   "execution_count": 377,
   "id": "f7950e9e",
   "metadata": {},
   "outputs": [],
   "source": [
    "\n",
    "## divide dataset  in 2010 and 2020\n",
    "\n",
    "#2010\n",
    "df_2010 = data[[0,1,3,5,7]]\n",
    "\n",
    "#transpose\n",
    "df_2010=df_2010.transpose()\n",
    "\n",
    "df_2010=df_2010.drop([1],axis=1)\n",
    "\n",
    "#drop innecesary columns by index interval\n",
    "df_2010=df_2010.drop(df_2010.iloc[:, 223:283], inplace = False, axis = 1)\n",
    "\n",
    "\n",
    "#first row as index\n",
    "df_2010=df_2010.rename(columns=df_2010.iloc[0])\n",
    "#drop row\n",
    "df_2010=df_2010.drop([0],axis=0)\n",
    "\n",
    "#FIRST COLUMN AS ROW INDEX\n",
    "df_2010=df_2010.set_index('SECTOR')\n",
    "\n",
    "#transpose d enuevo\n",
    "df_2010=df_2010.transpose()\n",
    "\n",
    "\n",
    "#2020\n",
    "\n",
    "df_2020 = data[[0,2,4,6,8]]\n",
    "#transpose\n",
    "df_2020=df_2020.transpose()\n",
    "\n",
    "df_2020=df_2020.drop([1],axis=1)\n",
    "\n",
    "#drop innecesary columns by index interval\n",
    "df_2020=df_2020.drop(df_2020.iloc[:, 223:283], inplace = False, axis = 1)\n",
    "\n",
    "\n",
    "#first row as index\n",
    "df_2020=df_2020.rename(columns=df_2020.iloc[0])\n",
    "#drop row\n",
    "df_2020=df_2020.drop([0],axis=0)\n",
    "\n",
    "#FIRST COLUMN AS ROW INDEX\n",
    "df_2020=df_2020.set_index('SECTOR')\n",
    "\n",
    "\n",
    "#transpose d enuevo\n",
    "df_2020=df_2020.transpose()"
   ]
  },
  {
   "cell_type": "markdown",
   "id": "e994ea11",
   "metadata": {},
   "source": [
    "**EDA**"
   ]
  },
  {
   "cell_type": "code",
   "execution_count": 378,
   "id": "84b64d7f",
   "metadata": {},
   "outputs": [
    {
     "data": {
      "text/plain": [
       "<bound method NDFrame.describe of SECTOR                     Agriculture Industry Manufacturing Services\n",
       "Afghanistan                       26.2     21.2          12.5     48.9\n",
       "Albania                           18.0     24.9           5.5     44.0\n",
       "Algeria                            8.5     40.0          39.0     39.2\n",
       "American Samoa                      ..       ..           7.2       ..\n",
       "Andorra                             ..       ..            ..       ..\n",
       "...                                ...      ...           ...      ...\n",
       "Latin America & Caribbean          4.7     29.2          14.3     55.7\n",
       "Middle East & North Africa         5.8     44.6          11.7     46.3\n",
       "North America                      1.1     20.0          11.7     75.2\n",
       "South Asia                        17.5     29.1          16.5     46.5\n",
       "Sub-Saharan Africa                15.7     27.2           9.9     51.1\n",
       "\n",
       "[222 rows x 4 columns]>"
      ]
     },
     "execution_count": 378,
     "metadata": {},
     "output_type": "execute_result"
    }
   ],
   "source": [
    "\n",
    "#####EDA###########\n",
    "import seaborn as sns\n",
    "import matplotlib.pyplot as plt\n",
    "\n",
    "\n",
    "df_2010.describe\n",
    "\n",
    "\n",
    "\n"
   ]
  },
  {
   "cell_type": "code",
   "execution_count": 379,
   "id": "d0cbb792",
   "metadata": {},
   "outputs": [
    {
     "data": {
      "text/plain": [
       "SECTOR\n",
       "Agriculture      object\n",
       "Industry         object\n",
       "Manufacturing    object\n",
       "Services         object\n",
       "dtype: object"
      ]
     },
     "execution_count": 379,
     "metadata": {},
     "output_type": "execute_result"
    }
   ],
   "source": [
    "df_2010.dtypes\n"
   ]
  },
  {
   "cell_type": "code",
   "execution_count": 380,
   "id": "67c06ade",
   "metadata": {},
   "outputs": [
    {
     "data": {
      "text/plain": [
       "Index(['Agriculture', 'Industry', 'Manufacturing', 'Services'], dtype='object', name='SECTOR')"
      ]
     },
     "execution_count": 380,
     "metadata": {},
     "output_type": "execute_result"
    }
   ],
   "source": [
    "df_2010.columns\n"
   ]
  },
  {
   "cell_type": "code",
   "execution_count": 381,
   "id": "a3b616c0",
   "metadata": {},
   "outputs": [
    {
     "name": "stdout",
     "output_type": "stream",
     "text": [
      "<class 'pandas.core.frame.DataFrame'>\n",
      "Index: 222 entries, Afghanistan to Sub-Saharan Africa\n",
      "Data columns (total 4 columns):\n",
      " #   Column         Non-Null Count  Dtype \n",
      "---  ------         --------------  ----- \n",
      " 0   Agriculture    222 non-null    object\n",
      " 1   Industry       222 non-null    object\n",
      " 2   Manufacturing  222 non-null    object\n",
      " 3   Services       222 non-null    object\n",
      "dtypes: object(4)\n",
      "memory usage: 8.7+ KB\n"
     ]
    }
   ],
   "source": [
    "df_2010.info()\n"
   ]
  },
  {
   "cell_type": "code",
   "execution_count": 382,
   "id": "07006cc9",
   "metadata": {},
   "outputs": [
    {
     "data": {
      "text/html": [
       "<div>\n",
       "<style scoped>\n",
       "    .dataframe tbody tr th:only-of-type {\n",
       "        vertical-align: middle;\n",
       "    }\n",
       "\n",
       "    .dataframe tbody tr th {\n",
       "        vertical-align: top;\n",
       "    }\n",
       "\n",
       "    .dataframe thead th {\n",
       "        text-align: right;\n",
       "    }\n",
       "</style>\n",
       "<table border=\"1\" class=\"dataframe\">\n",
       "  <thead>\n",
       "    <tr style=\"text-align: right;\">\n",
       "      <th>SECTOR</th>\n",
       "      <th>Agriculture</th>\n",
       "      <th>Industry</th>\n",
       "      <th>Manufacturing</th>\n",
       "      <th>Services</th>\n",
       "    </tr>\n",
       "  </thead>\n",
       "  <tbody>\n",
       "    <tr>\n",
       "      <th>Afghanistan</th>\n",
       "      <td>26.2</td>\n",
       "      <td>21.2</td>\n",
       "      <td>12.5</td>\n",
       "      <td>48.9</td>\n",
       "    </tr>\n",
       "    <tr>\n",
       "      <th>Albania</th>\n",
       "      <td>18.0</td>\n",
       "      <td>24.9</td>\n",
       "      <td>5.5</td>\n",
       "      <td>44.0</td>\n",
       "    </tr>\n",
       "    <tr>\n",
       "      <th>Algeria</th>\n",
       "      <td>8.5</td>\n",
       "      <td>40.0</td>\n",
       "      <td>39.0</td>\n",
       "      <td>39.2</td>\n",
       "    </tr>\n",
       "    <tr>\n",
       "      <th>American Samoa</th>\n",
       "      <td>..</td>\n",
       "      <td>..</td>\n",
       "      <td>7.2</td>\n",
       "      <td>..</td>\n",
       "    </tr>\n",
       "    <tr>\n",
       "      <th>Andorra</th>\n",
       "      <td>..</td>\n",
       "      <td>..</td>\n",
       "      <td>..</td>\n",
       "      <td>..</td>\n",
       "    </tr>\n",
       "    <tr>\n",
       "      <th>...</th>\n",
       "      <td>...</td>\n",
       "      <td>...</td>\n",
       "      <td>...</td>\n",
       "      <td>...</td>\n",
       "    </tr>\n",
       "    <tr>\n",
       "      <th>Latin America &amp; Caribbean</th>\n",
       "      <td>4.7</td>\n",
       "      <td>29.2</td>\n",
       "      <td>14.3</td>\n",
       "      <td>55.7</td>\n",
       "    </tr>\n",
       "    <tr>\n",
       "      <th>Middle East &amp; North Africa</th>\n",
       "      <td>5.8</td>\n",
       "      <td>44.6</td>\n",
       "      <td>11.7</td>\n",
       "      <td>46.3</td>\n",
       "    </tr>\n",
       "    <tr>\n",
       "      <th>North America</th>\n",
       "      <td>1.1</td>\n",
       "      <td>20.0</td>\n",
       "      <td>11.7</td>\n",
       "      <td>75.2</td>\n",
       "    </tr>\n",
       "    <tr>\n",
       "      <th>South Asia</th>\n",
       "      <td>17.5</td>\n",
       "      <td>29.1</td>\n",
       "      <td>16.5</td>\n",
       "      <td>46.5</td>\n",
       "    </tr>\n",
       "    <tr>\n",
       "      <th>Sub-Saharan Africa</th>\n",
       "      <td>15.7</td>\n",
       "      <td>27.2</td>\n",
       "      <td>9.9</td>\n",
       "      <td>51.1</td>\n",
       "    </tr>\n",
       "  </tbody>\n",
       "</table>\n",
       "<p>222 rows × 4 columns</p>\n",
       "</div>"
      ],
      "text/plain": [
       "SECTOR                     Agriculture Industry Manufacturing Services\n",
       "Afghanistan                       26.2     21.2          12.5     48.9\n",
       "Albania                           18.0     24.9           5.5     44.0\n",
       "Algeria                            8.5     40.0          39.0     39.2\n",
       "American Samoa                      ..       ..           7.2       ..\n",
       "Andorra                             ..       ..            ..       ..\n",
       "...                                ...      ...           ...      ...\n",
       "Latin America & Caribbean          4.7     29.2          14.3     55.7\n",
       "Middle East & North Africa         5.8     44.6          11.7     46.3\n",
       "North America                      1.1     20.0          11.7     75.2\n",
       "South Asia                        17.5     29.1          16.5     46.5\n",
       "Sub-Saharan Africa                15.7     27.2           9.9     51.1\n",
       "\n",
       "[222 rows x 4 columns]"
      ]
     },
     "execution_count": 382,
     "metadata": {},
     "output_type": "execute_result"
    }
   ],
   "source": [
    "df_2010\n",
    "\n"
   ]
  },
  {
   "cell_type": "code",
   "execution_count": 383,
   "id": "99fe1e4a",
   "metadata": {},
   "outputs": [
    {
     "data": {
      "text/plain": [
       "(222, 4)"
      ]
     },
     "execution_count": 383,
     "metadata": {},
     "output_type": "execute_result"
    }
   ],
   "source": [
    "df_2010.shape"
   ]
  },
  {
   "cell_type": "code",
   "execution_count": 384,
   "id": "2215702e",
   "metadata": {},
   "outputs": [
    {
     "data": {
      "text/plain": [
       "<bound method NDFrame.describe of Afghanistan                   26.2\n",
       "Albania                       18.0\n",
       "Algeria                        8.5\n",
       "American Samoa                  ..\n",
       "Andorra                         ..\n",
       "                              ... \n",
       "Latin America & Caribbean      4.7\n",
       "Middle East & North Africa     5.8\n",
       "North America                  1.1\n",
       "South Asia                    17.5\n",
       "Sub-Saharan Africa            15.7\n",
       "Name: Agriculture, Length: 222, dtype: object>"
      ]
     },
     "execution_count": 384,
     "metadata": {},
     "output_type": "execute_result"
    }
   ],
   "source": [
    "df_2010['Agriculture'].describe"
   ]
  },
  {
   "cell_type": "code",
   "execution_count": 385,
   "id": "3e216e30",
   "metadata": {},
   "outputs": [
    {
     "data": {
      "text/html": [
       "<div>\n",
       "<style scoped>\n",
       "    .dataframe tbody tr th:only-of-type {\n",
       "        vertical-align: middle;\n",
       "    }\n",
       "\n",
       "    .dataframe tbody tr th {\n",
       "        vertical-align: top;\n",
       "    }\n",
       "\n",
       "    .dataframe thead th {\n",
       "        text-align: right;\n",
       "    }\n",
       "</style>\n",
       "<table border=\"1\" class=\"dataframe\">\n",
       "  <thead>\n",
       "    <tr style=\"text-align: right;\">\n",
       "      <th>SECTOR</th>\n",
       "      <th>Agriculture</th>\n",
       "      <th>Industry</th>\n",
       "      <th>Manufacturing</th>\n",
       "      <th>Services</th>\n",
       "    </tr>\n",
       "  </thead>\n",
       "  <tbody>\n",
       "    <tr>\n",
       "      <th>Afghanistan</th>\n",
       "      <td>26.2</td>\n",
       "      <td>21.2</td>\n",
       "      <td>12.5</td>\n",
       "      <td>48.9</td>\n",
       "    </tr>\n",
       "    <tr>\n",
       "      <th>Albania</th>\n",
       "      <td>18.0</td>\n",
       "      <td>24.9</td>\n",
       "      <td>5.5</td>\n",
       "      <td>44.0</td>\n",
       "    </tr>\n",
       "    <tr>\n",
       "      <th>Algeria</th>\n",
       "      <td>8.5</td>\n",
       "      <td>40.0</td>\n",
       "      <td>39.0</td>\n",
       "      <td>39.2</td>\n",
       "    </tr>\n",
       "    <tr>\n",
       "      <th>American Samoa</th>\n",
       "      <td>..</td>\n",
       "      <td>..</td>\n",
       "      <td>7.2</td>\n",
       "      <td>..</td>\n",
       "    </tr>\n",
       "    <tr>\n",
       "      <th>Andorra</th>\n",
       "      <td>..</td>\n",
       "      <td>..</td>\n",
       "      <td>..</td>\n",
       "      <td>..</td>\n",
       "    </tr>\n",
       "  </tbody>\n",
       "</table>\n",
       "</div>"
      ],
      "text/plain": [
       "SECTOR         Agriculture Industry Manufacturing Services\n",
       "Afghanistan           26.2     21.2          12.5     48.9\n",
       "Albania               18.0     24.9           5.5     44.0\n",
       "Algeria                8.5     40.0          39.0     39.2\n",
       "American Samoa          ..       ..           7.2       ..\n",
       "Andorra                 ..       ..            ..       .."
      ]
     },
     "execution_count": 385,
     "metadata": {},
     "output_type": "execute_result"
    }
   ],
   "source": [
    "df_2010.head()"
   ]
  },
  {
   "cell_type": "code",
   "execution_count": 386,
   "id": "9dbd50b6",
   "metadata": {},
   "outputs": [
    {
     "data": {
      "text/plain": [
       "'..'"
      ]
     },
     "execution_count": 386,
     "metadata": {},
     "output_type": "execute_result"
    }
   ],
   "source": [
    "df_2010['Agriculture'].values[3]\n"
   ]
  },
  {
   "cell_type": "code",
   "execution_count": 387,
   "id": "e6874228",
   "metadata": {},
   "outputs": [],
   "source": [
    "#eliminate ..\n",
    "df_2010=df_2010.replace('..',0)\n"
   ]
  },
  {
   "cell_type": "code",
   "execution_count": 388,
   "id": "f2499972",
   "metadata": {},
   "outputs": [
    {
     "data": {
      "text/plain": [
       "SECTOR\n",
       "Agriculture      False\n",
       "Industry         False\n",
       "Manufacturing    False\n",
       "Services         False\n",
       "dtype: bool"
      ]
     },
     "execution_count": 388,
     "metadata": {},
     "output_type": "execute_result"
    }
   ],
   "source": [
    "df_2010.isin(['..']).any()"
   ]
  },
  {
   "cell_type": "code",
   "execution_count": 389,
   "id": "00a39221",
   "metadata": {},
   "outputs": [],
   "source": [
    "#pasar todas las columnas a float\n",
    "for i in df_2010.columns:\n",
    "    df_2010[i]=pd.to_numeric(df_2010[i],errors='coerce')\n",
    "\n",
    "\n"
   ]
  },
  {
   "cell_type": "code",
   "execution_count": 390,
   "id": "92e36187",
   "metadata": {},
   "outputs": [
    {
     "name": "stdout",
     "output_type": "stream",
     "text": [
      "<class 'pandas.core.frame.DataFrame'>\n",
      "Index: 222 entries, Afghanistan to Sub-Saharan Africa\n",
      "Data columns (total 4 columns):\n",
      " #   Column         Non-Null Count  Dtype  \n",
      "---  ------         --------------  -----  \n",
      " 0   Agriculture    222 non-null    float64\n",
      " 1   Industry       222 non-null    float64\n",
      " 2   Manufacturing  222 non-null    float64\n",
      " 3   Services       222 non-null    float64\n",
      "dtypes: float64(4)\n",
      "memory usage: 8.7+ KB\n"
     ]
    }
   ],
   "source": [
    "df_2010.info()\n"
   ]
  },
  {
   "cell_type": "code",
   "execution_count": 391,
   "id": "8fc92f8f",
   "metadata": {},
   "outputs": [
    {
     "data": {
      "text/html": [
       "<div>\n",
       "<style scoped>\n",
       "    .dataframe tbody tr th:only-of-type {\n",
       "        vertical-align: middle;\n",
       "    }\n",
       "\n",
       "    .dataframe tbody tr th {\n",
       "        vertical-align: top;\n",
       "    }\n",
       "\n",
       "    .dataframe thead th {\n",
       "        text-align: right;\n",
       "    }\n",
       "</style>\n",
       "<table border=\"1\" class=\"dataframe\">\n",
       "  <thead>\n",
       "    <tr style=\"text-align: right;\">\n",
       "      <th>SECTOR</th>\n",
       "      <th>Agriculture</th>\n",
       "      <th>Industry</th>\n",
       "      <th>Manufacturing</th>\n",
       "      <th>Services</th>\n",
       "    </tr>\n",
       "  </thead>\n",
       "  <tbody>\n",
       "    <tr>\n",
       "      <th>Afghanistan</th>\n",
       "      <td>26.2</td>\n",
       "      <td>21.2</td>\n",
       "      <td>12.5</td>\n",
       "      <td>48.9</td>\n",
       "    </tr>\n",
       "    <tr>\n",
       "      <th>Albania</th>\n",
       "      <td>18.0</td>\n",
       "      <td>24.9</td>\n",
       "      <td>5.5</td>\n",
       "      <td>44.0</td>\n",
       "    </tr>\n",
       "    <tr>\n",
       "      <th>Algeria</th>\n",
       "      <td>8.5</td>\n",
       "      <td>40.0</td>\n",
       "      <td>39.0</td>\n",
       "      <td>39.2</td>\n",
       "    </tr>\n",
       "    <tr>\n",
       "      <th>American Samoa</th>\n",
       "      <td>0.0</td>\n",
       "      <td>0.0</td>\n",
       "      <td>7.2</td>\n",
       "      <td>0.0</td>\n",
       "    </tr>\n",
       "    <tr>\n",
       "      <th>Andorra</th>\n",
       "      <td>0.0</td>\n",
       "      <td>0.0</td>\n",
       "      <td>0.0</td>\n",
       "      <td>0.0</td>\n",
       "    </tr>\n",
       "    <tr>\n",
       "      <th>...</th>\n",
       "      <td>...</td>\n",
       "      <td>...</td>\n",
       "      <td>...</td>\n",
       "      <td>...</td>\n",
       "    </tr>\n",
       "    <tr>\n",
       "      <th>Latin America &amp; Caribbean</th>\n",
       "      <td>4.7</td>\n",
       "      <td>29.2</td>\n",
       "      <td>14.3</td>\n",
       "      <td>55.7</td>\n",
       "    </tr>\n",
       "    <tr>\n",
       "      <th>Middle East &amp; North Africa</th>\n",
       "      <td>5.8</td>\n",
       "      <td>44.6</td>\n",
       "      <td>11.7</td>\n",
       "      <td>46.3</td>\n",
       "    </tr>\n",
       "    <tr>\n",
       "      <th>North America</th>\n",
       "      <td>1.1</td>\n",
       "      <td>20.0</td>\n",
       "      <td>11.7</td>\n",
       "      <td>75.2</td>\n",
       "    </tr>\n",
       "    <tr>\n",
       "      <th>South Asia</th>\n",
       "      <td>17.5</td>\n",
       "      <td>29.1</td>\n",
       "      <td>16.5</td>\n",
       "      <td>46.5</td>\n",
       "    </tr>\n",
       "    <tr>\n",
       "      <th>Sub-Saharan Africa</th>\n",
       "      <td>15.7</td>\n",
       "      <td>27.2</td>\n",
       "      <td>9.9</td>\n",
       "      <td>51.1</td>\n",
       "    </tr>\n",
       "  </tbody>\n",
       "</table>\n",
       "<p>222 rows × 4 columns</p>\n",
       "</div>"
      ],
      "text/plain": [
       "SECTOR                      Agriculture  Industry  Manufacturing  Services\n",
       "Afghanistan                        26.2      21.2           12.5      48.9\n",
       "Albania                            18.0      24.9            5.5      44.0\n",
       "Algeria                             8.5      40.0           39.0      39.2\n",
       "American Samoa                      0.0       0.0            7.2       0.0\n",
       "Andorra                             0.0       0.0            0.0       0.0\n",
       "...                                 ...       ...            ...       ...\n",
       "Latin America & Caribbean           4.7      29.2           14.3      55.7\n",
       "Middle East & North Africa          5.8      44.6           11.7      46.3\n",
       "North America                       1.1      20.0           11.7      75.2\n",
       "South Asia                         17.5      29.1           16.5      46.5\n",
       "Sub-Saharan Africa                 15.7      27.2            9.9      51.1\n",
       "\n",
       "[222 rows x 4 columns]"
      ]
     },
     "execution_count": 391,
     "metadata": {},
     "output_type": "execute_result"
    }
   ],
   "source": [
    "df_2010\n"
   ]
  },
  {
   "cell_type": "code",
   "execution_count": 392,
   "id": "c10ef571",
   "metadata": {},
   "outputs": [
    {
     "name": "stdout",
     "output_type": "stream",
     "text": [
      "count    222.000000\n",
      "mean      10.196396\n",
      "std       11.191447\n",
      "min        0.000000\n",
      "25%        1.600000\n",
      "50%        6.250000\n",
      "75%       15.850000\n",
      "max       52.900000\n",
      "Name: Agriculture, dtype: float64\n"
     ]
    },
    {
     "name": "stderr",
     "output_type": "stream",
     "text": [
      "C:\\Users\\luisl\\anaconda3\\lib\\site-packages\\seaborn\\distributions.py:2557: FutureWarning: `distplot` is a deprecated function and will be removed in a future version. Please adapt your code to use either `displot` (a figure-level function with similar flexibility) or `histplot` (an axes-level function for histograms).\n",
      "  warnings.warn(msg, FutureWarning)\n"
     ]
    },
    {
     "data": {
      "image/png": "[encoded data removed]",
      "text/plain": [
       "<Figure size 648x576 with 1 Axes>"
      ]
     },
     "metadata": {
      "needs_background": "light"
     },
     "output_type": "display_data"
    }
   ],
   "source": [
    "\n",
    "#plots\n",
    "print(df_2010['Agriculture'].describe())\n",
    "plt.figure(figsize=(9, 8))\n",
    "sns.distplot(df_2010['Agriculture'], color='g', bins=100, hist_kws={'alpha': 0.4});"
   ]
  },
  {
   "cell_type": "code",
   "execution_count": 393,
   "id": "f71c67a7",
   "metadata": {},
   "outputs": [
    {
     "name": "stdout",
     "output_type": "stream",
     "text": [
      "count    222.000000\n",
      "mean      24.824775\n",
      "std       14.970824\n",
      "min        0.000000\n",
      "25%       16.225000\n",
      "50%       23.400000\n",
      "75%       30.575000\n",
      "max       77.500000\n",
      "Name: Industry, dtype: float64\n"
     ]
    },
    {
     "name": "stderr",
     "output_type": "stream",
     "text": [
      "C:\\Users\\luisl\\anaconda3\\lib\\site-packages\\seaborn\\distributions.py:2557: FutureWarning: `distplot` is a deprecated function and will be removed in a future version. Please adapt your code to use either `displot` (a figure-level function with similar flexibility) or `histplot` (an axes-level function for histograms).\n",
      "  warnings.warn(msg, FutureWarning)\n"
     ]
    },
    {
     "data": {
      "image/png": "[encoded data removed]",
      "text/plain": [
       "<Figure size 648x576 with 1 Axes>"
      ]
     },
     "metadata": {
      "needs_background": "light"
     },
     "output_type": "display_data"
    }
   ],
   "source": [
    "\n",
    "#plots\n",
    "print(df_2010['Industry'].describe())\n",
    "plt.figure(figsize=(9, 8))\n",
    "sns.distplot(df_2010['Industry'], color='g', bins=100, hist_kws={'alpha': 0.4});"
   ]
  },
  {
   "cell_type": "code",
   "execution_count": 394,
   "id": "e170dc70",
   "metadata": {},
   "outputs": [
    {
     "name": "stdout",
     "output_type": "stream",
     "text": [
      "count    222.000000\n",
      "mean      10.566216\n",
      "std        7.410582\n",
      "min        0.000000\n",
      "25%        5.150000\n",
      "50%       10.550000\n",
      "75%       14.850000\n",
      "max       47.300000\n",
      "Name: Manufacturing, dtype: float64\n"
     ]
    },
    {
     "name": "stderr",
     "output_type": "stream",
     "text": [
      "C:\\Users\\luisl\\anaconda3\\lib\\site-packages\\seaborn\\distributions.py:2557: FutureWarning: `distplot` is a deprecated function and will be removed in a future version. Please adapt your code to use either `displot` (a figure-level function with similar flexibility) or `histplot` (an axes-level function for histograms).\n",
      "  warnings.warn(msg, FutureWarning)\n"
     ]
    },
    {
     "data": {
      "image/png": "[encoded data removed]",
      "text/plain": [
       "<Figure size 648x576 with 1 Axes>"
      ]
     },
     "metadata": {
      "needs_background": "light"
     },
     "output_type": "display_data"
    }
   ],
   "source": [
    "\n",
    "#plots\n",
    "print(df_2010['Manufacturing'].describe())\n",
    "plt.figure(figsize=(9, 8))\n",
    "sns.distplot(df_2010['Manufacturing'], color='g', bins=100, hist_kws={'alpha': 0.4});"
   ]
  },
  {
   "cell_type": "code",
   "execution_count": 395,
   "id": "c2728ffa",
   "metadata": {},
   "outputs": [
    {
     "name": "stdout",
     "output_type": "stream",
     "text": [
      "count    222.000000\n",
      "mean      50.720270\n",
      "std       19.990629\n",
      "min        0.000000\n",
      "25%       43.525000\n",
      "50%       53.300000\n",
      "75%       63.050000\n",
      "max       94.000000\n",
      "Name: Services, dtype: float64\n"
     ]
    },
    {
     "name": "stderr",
     "output_type": "stream",
     "text": [
      "C:\\Users\\luisl\\anaconda3\\lib\\site-packages\\seaborn\\distributions.py:2557: FutureWarning: `distplot` is a deprecated function and will be removed in a future version. Please adapt your code to use either `displot` (a figure-level function with similar flexibility) or `histplot` (an axes-level function for histograms).\n",
      "  warnings.warn(msg, FutureWarning)\n"
     ]
    },
    {
     "data": {
      "image/png": "[encoded data removed]",
      "text/plain": [
       "<Figure size 648x576 with 1 Axes>"
      ]
     },
     "metadata": {
      "needs_background": "light"
     },
     "output_type": "display_data"
    }
   ],
   "source": [
    "\n",
    "#plots\n",
    "print(df_2010['Services'].describe())\n",
    "plt.figure(figsize=(9, 8))\n",
    "sns.distplot(df_2010['Services'], color='g', bins=100, hist_kws={'alpha': 0.4});"
   ]
  },
  {
   "cell_type": "code",
   "execution_count": 396,
   "id": "7e0dfd10",
   "metadata": {},
   "outputs": [
    {
     "data": {
      "image/png": "[encoded data removed]",
      "text/plain": [
       "<Figure size 1152x1440 with 4 Axes>"
      ]
     },
     "metadata": {
      "needs_background": "light"
     },
     "output_type": "display_data"
    }
   ],
   "source": [
    "#plot de todos a la vez\n",
    "\n",
    "df_2010.hist(figsize=(16, 20), bins=50, xlabelsize=8, ylabelsize=8);"
   ]
  },
  {
   "cell_type": "code",
   "execution_count": 397,
   "id": "fdbf1e39",
   "metadata": {},
   "outputs": [],
   "source": [
    "\n",
    "\n",
    "#localizar filas con 0\n",
    "rowss=df_2010.index.values.tolist()#lista de filas\n",
    "cols= df_2010.columns#lsita de columnas\n",
    "eliminar_com_0=[]\n",
    "for row in rowss:\n",
    "    for col in cols:\n",
    "        if df_2010[col][row]==0:\n",
    "            eliminar_com_0.append(row)\n",
    "            \n",
    "\n",
    "        \n",
    "        \n",
    "        "
   ]
  },
  {
   "cell_type": "code",
   "execution_count": 398,
   "id": "b5de456f",
   "metadata": {},
   "outputs": [
    {
     "data": {
      "text/plain": [
       "['American Samoa',\n",
       " 'American Samoa',\n",
       " 'American Samoa',\n",
       " 'Andorra',\n",
       " 'Andorra',\n",
       " 'Andorra',\n",
       " 'Andorra',\n",
       " 'Barbados',\n",
       " 'Barbados',\n",
       " 'Barbados',\n",
       " 'Barbados',\n",
       " 'Bulgaria',\n",
       " 'Channel Islands',\n",
       " 'Channel Islands',\n",
       " 'Channel Islands',\n",
       " 'Channel Islands',\n",
       " 'Macao SAR, China',\n",
       " 'Comoros',\n",
       " 'Djibouti',\n",
       " 'Djibouti',\n",
       " 'Djibouti',\n",
       " 'Djibouti',\n",
       " 'Eritrea',\n",
       " 'French Polynesia',\n",
       " 'French Polynesia',\n",
       " 'French Polynesia',\n",
       " 'French Polynesia',\n",
       " 'Guam',\n",
       " 'Guam',\n",
       " 'Guam',\n",
       " 'Guam',\n",
       " \"Korea, Dem. People's Rep.\",\n",
       " \"Korea, Dem. People's Rep.\",\n",
       " \"Korea, Dem. People's Rep.\",\n",
       " \"Korea, Dem. People's Rep.\",\n",
       " 'Libya',\n",
       " 'Liechtenstein',\n",
       " 'Liechtenstein',\n",
       " 'Liechtenstein',\n",
       " 'Liechtenstein',\n",
       " 'Monaco',\n",
       " 'Monaco',\n",
       " 'Northern Mariana Islands',\n",
       " 'Northern Mariana Islands',\n",
       " 'Northern Mariana Islands',\n",
       " 'Northern Mariana Islands',\n",
       " 'San Marino',\n",
       " 'San Marino',\n",
       " 'San Marino',\n",
       " 'San Marino',\n",
       " 'Singapore',\n",
       " 'Solomon Islands',\n",
       " 'Solomon Islands',\n",
       " 'Solomon Islands',\n",
       " 'Solomon Islands',\n",
       " 'Somalia',\n",
       " 'Somalia',\n",
       " 'Somalia',\n",
       " 'Somalia',\n",
       " 'St. Martin (French part)',\n",
       " 'St. Martin (French part)',\n",
       " 'St. Martin (French part)',\n",
       " 'St. Martin (French part)',\n",
       " 'Syrian Arab Republic',\n",
       " 'Turkmenistan',\n",
       " 'Tuvalu',\n",
       " 'Virgin Islands (U.S.)',\n",
       " 'Virgin Islands (U.S.)',\n",
       " 'Virgin Islands (U.S.)',\n",
       " 'Virgin Islands (U.S.)']"
      ]
     },
     "execution_count": 398,
     "metadata": {},
     "output_type": "execute_result"
    }
   ],
   "source": [
    "eliminar_com_0\n"
   ]
  },
  {
   "cell_type": "code",
   "execution_count": 399,
   "id": "0d6e4732",
   "metadata": {},
   "outputs": [],
   "source": [
    "#eliminar duplicados\n",
    "from collections import OrderedDict\n",
    "eliminar_com_0= list(OrderedDict.fromkeys(eliminar_com_0))"
   ]
  },
  {
   "cell_type": "code",
   "execution_count": 400,
   "id": "66c235cc",
   "metadata": {},
   "outputs": [
    {
     "data": {
      "text/plain": [
       "['American Samoa',\n",
       " 'Andorra',\n",
       " 'Barbados',\n",
       " 'Bulgaria',\n",
       " 'Channel Islands',\n",
       " 'Macao SAR, China',\n",
       " 'Comoros',\n",
       " 'Djibouti',\n",
       " 'Eritrea',\n",
       " 'French Polynesia',\n",
       " 'Guam',\n",
       " \"Korea, Dem. People's Rep.\",\n",
       " 'Libya',\n",
       " 'Liechtenstein',\n",
       " 'Monaco',\n",
       " 'Northern Mariana Islands',\n",
       " 'San Marino',\n",
       " 'Singapore',\n",
       " 'Solomon Islands',\n",
       " 'Somalia',\n",
       " 'St. Martin (French part)',\n",
       " 'Syrian Arab Republic',\n",
       " 'Turkmenistan',\n",
       " 'Tuvalu',\n",
       " 'Virgin Islands (U.S.)']"
      ]
     },
     "execution_count": 400,
     "metadata": {},
     "output_type": "execute_result"
    }
   ],
   "source": [
    "eliminar_com_0"
   ]
  },
  {
   "cell_type": "code",
   "execution_count": 401,
   "id": "0c51f869",
   "metadata": {},
   "outputs": [],
   "source": [
    "#eliminar las filas con 0\n",
    "for i in eliminar_com_0:\n",
    "    df_2010=df_2010.drop([i],axis=0)"
   ]
  },
  {
   "cell_type": "code",
   "execution_count": 402,
   "id": "8c5ce2c3",
   "metadata": {},
   "outputs": [
    {
     "data": {
      "text/html": [
       "<div>\n",
       "<style scoped>\n",
       "    .dataframe tbody tr th:only-of-type {\n",
       "        vertical-align: middle;\n",
       "    }\n",
       "\n",
       "    .dataframe tbody tr th {\n",
       "        vertical-align: top;\n",
       "    }\n",
       "\n",
       "    .dataframe thead th {\n",
       "        text-align: right;\n",
       "    }\n",
       "</style>\n",
       "<table border=\"1\" class=\"dataframe\">\n",
       "  <thead>\n",
       "    <tr style=\"text-align: right;\">\n",
       "      <th>SECTOR</th>\n",
       "      <th>Agriculture</th>\n",
       "      <th>Industry</th>\n",
       "      <th>Manufacturing</th>\n",
       "      <th>Services</th>\n",
       "    </tr>\n",
       "  </thead>\n",
       "  <tbody>\n",
       "    <tr>\n",
       "      <th>Afghanistan</th>\n",
       "      <td>26.2</td>\n",
       "      <td>21.2</td>\n",
       "      <td>12.5</td>\n",
       "      <td>48.9</td>\n",
       "    </tr>\n",
       "    <tr>\n",
       "      <th>Albania</th>\n",
       "      <td>18.0</td>\n",
       "      <td>24.9</td>\n",
       "      <td>5.5</td>\n",
       "      <td>44.0</td>\n",
       "    </tr>\n",
       "    <tr>\n",
       "      <th>Algeria</th>\n",
       "      <td>8.5</td>\n",
       "      <td>40.0</td>\n",
       "      <td>39.0</td>\n",
       "      <td>39.2</td>\n",
       "    </tr>\n",
       "    <tr>\n",
       "      <th>Angola</th>\n",
       "      <td>6.2</td>\n",
       "      <td>52.4</td>\n",
       "      <td>4.5</td>\n",
       "      <td>41.9</td>\n",
       "    </tr>\n",
       "    <tr>\n",
       "      <th>Antigua and Barbuda</th>\n",
       "      <td>1.6</td>\n",
       "      <td>16.2</td>\n",
       "      <td>2.2</td>\n",
       "      <td>70.7</td>\n",
       "    </tr>\n",
       "    <tr>\n",
       "      <th>...</th>\n",
       "      <td>...</td>\n",
       "      <td>...</td>\n",
       "      <td>...</td>\n",
       "      <td>...</td>\n",
       "    </tr>\n",
       "    <tr>\n",
       "      <th>Latin America &amp; Caribbean</th>\n",
       "      <td>4.7</td>\n",
       "      <td>29.2</td>\n",
       "      <td>14.3</td>\n",
       "      <td>55.7</td>\n",
       "    </tr>\n",
       "    <tr>\n",
       "      <th>Middle East &amp; North Africa</th>\n",
       "      <td>5.8</td>\n",
       "      <td>44.6</td>\n",
       "      <td>11.7</td>\n",
       "      <td>46.3</td>\n",
       "    </tr>\n",
       "    <tr>\n",
       "      <th>North America</th>\n",
       "      <td>1.1</td>\n",
       "      <td>20.0</td>\n",
       "      <td>11.7</td>\n",
       "      <td>75.2</td>\n",
       "    </tr>\n",
       "    <tr>\n",
       "      <th>South Asia</th>\n",
       "      <td>17.5</td>\n",
       "      <td>29.1</td>\n",
       "      <td>16.5</td>\n",
       "      <td>46.5</td>\n",
       "    </tr>\n",
       "    <tr>\n",
       "      <th>Sub-Saharan Africa</th>\n",
       "      <td>15.7</td>\n",
       "      <td>27.2</td>\n",
       "      <td>9.9</td>\n",
       "      <td>51.1</td>\n",
       "    </tr>\n",
       "  </tbody>\n",
       "</table>\n",
       "<p>197 rows × 4 columns</p>\n",
       "</div>"
      ],
      "text/plain": [
       "SECTOR                      Agriculture  Industry  Manufacturing  Services\n",
       "Afghanistan                        26.2      21.2           12.5      48.9\n",
       "Albania                            18.0      24.9            5.5      44.0\n",
       "Algeria                             8.5      40.0           39.0      39.2\n",
       "Angola                              6.2      52.4            4.5      41.9\n",
       "Antigua and Barbuda                 1.6      16.2            2.2      70.7\n",
       "...                                 ...       ...            ...       ...\n",
       "Latin America & Caribbean           4.7      29.2           14.3      55.7\n",
       "Middle East & North Africa          5.8      44.6           11.7      46.3\n",
       "North America                       1.1      20.0           11.7      75.2\n",
       "South Asia                         17.5      29.1           16.5      46.5\n",
       "Sub-Saharan Africa                 15.7      27.2            9.9      51.1\n",
       "\n",
       "[197 rows x 4 columns]"
      ]
     },
     "execution_count": 402,
     "metadata": {},
     "output_type": "execute_result"
    }
   ],
   "source": [
    "df_2010"
   ]
  },
  {
   "cell_type": "markdown",
   "id": "22f67070",
   "metadata": {},
   "source": [
    "**FULL DATA CLEANING**"
   ]
  },
  {
   "cell_type": "code",
   "execution_count": 403,
   "id": "05104a82",
   "metadata": {},
   "outputs": [],
   "source": [
    "#eliminate ..\n",
    "df_2020=df_2020.replace('..',0)\n",
    "\n",
    "#pasar todas las columnas a float\n",
    "for i in df_2020.columns:\n",
    "    df_2020[i]=pd.to_numeric(df_2020[i],errors='coerce')\n",
    "    \n",
    "#localizar filas con 0\n",
    "rowss=df_2020.index.values.tolist()#lista de filas\n",
    "cols= df_2020.columns#lsita de columnas\n",
    "eliminar_com_0=[]\n",
    "for row in rowss:\n",
    "    for col in cols:\n",
    "        if df_2020[col][row]==0:\n",
    "            eliminar_com_0.append(row)\n",
    "            \n",
    "\n",
    "#eliminar duplicados\n",
    "from collections import OrderedDict\n",
    "eliminar_com_0= list(OrderedDict.fromkeys(eliminar_com_0))\n",
    "\n",
    "\n",
    "#eliminar las filas con 0\n",
    "for i in eliminar_com_0:\n",
    "    df_2020=df_2020.drop([i],axis=0)"
   ]
  },
  {
   "cell_type": "code",
   "execution_count": 404,
   "id": "17d6be9e",
   "metadata": {},
   "outputs": [
    {
     "data": {
      "text/plain": [
       "Text(0.5, 1.1, 'Relación  entre variables')"
      ]
     },
     "execution_count": 404,
     "metadata": {},
     "output_type": "execute_result"
    },
    {
     "data": {
      "image/png": "[encoded data removed]",
      "text/plain": [
       "<Figure size 720x720 with 20 Axes>"
      ]
     },
     "metadata": {
      "needs_background": "light"
     },
     "output_type": "display_data"
    }
   ],
   "source": [
    "#Pintamos el diagrama de sns pairplot\n",
    "g = sns.pairplot(df_2010,  diag_kind = 'hist', plot_kws = {'alpha': 0.6, 's': 80, 'edgecolor': 'k'})\n",
    "g.fig.suptitle(\"Relación  entre variables\",  y=1.1)\n"
   ]
  },
  {
   "cell_type": "code",
   "execution_count": 405,
   "id": "bb67c6ee",
   "metadata": {},
   "outputs": [],
   "source": [
    "pd.options.display.max_seq_items = 2000\n",
    "\n",
    "indexrows=df_2010.index"
   ]
  },
  {
   "cell_type": "code",
   "execution_count": 406,
   "id": "cf12be31",
   "metadata": {},
   "outputs": [
    {
     "data": {
      "text/plain": [
       "True"
      ]
     },
     "execution_count": 406,
     "metadata": {},
     "output_type": "execute_result"
    }
   ],
   "source": [
    "#españa esta en el datset?\n",
    "\n",
    "pd.options.display.max_seq_items = 2000\n",
    "\n",
    "indexrows.isin(['Spain']).any()"
   ]
  },
  {
   "cell_type": "code",
   "execution_count": 407,
   "id": "f8064e43",
   "metadata": {},
   "outputs": [
    {
     "data": {
      "text/plain": [
       "'Albania'"
      ]
     },
     "execution_count": 407,
     "metadata": {},
     "output_type": "execute_result"
    }
   ],
   "source": [
    "indexrows[1]"
   ]
  },
  {
   "cell_type": "code",
   "execution_count": 408,
   "id": "c1a2273a",
   "metadata": {},
   "outputs": [
    {
     "name": "stdout",
     "output_type": "stream",
     "text": [
      "156\n"
     ]
    }
   ],
   "source": [
    "\n",
    "#localizar espaaña en el datset\n",
    "for i in range (0,len(indexrows)):\n",
    "    if indexrows[i]=='Spain':\n",
    "        print(i)\n",
    "        \n",
    "        "
   ]
  },
  {
   "cell_type": "code",
   "execution_count": 409,
   "id": "b6a42cc9",
   "metadata": {},
   "outputs": [],
   "source": [
    "df_esp= df_2010.iloc[156]"
   ]
  },
  {
   "cell_type": "code",
   "execution_count": 295,
   "id": "81ec47c8",
   "metadata": {},
   "outputs": [
    {
     "data": {
      "text/plain": [
       "SECTOR\n",
       "Agriculture       2.4\n",
       "Industry         23.2\n",
       "Manufacturing    11.4\n",
       "Services         66.3\n",
       "Name: Spain, dtype: float64"
      ]
     },
     "execution_count": 295,
     "metadata": {},
     "output_type": "execute_result"
    }
   ],
   "source": [
    "df_esp"
   ]
  },
  {
   "cell_type": "code",
   "execution_count": 410,
   "id": "6f85cd5e",
   "metadata": {},
   "outputs": [
    {
     "data": {
      "text/plain": [
       "2.4"
      ]
     },
     "execution_count": 410,
     "metadata": {},
     "output_type": "execute_result"
    }
   ],
   "source": [
    "df_esp.Agriculture"
   ]
  },
  {
   "cell_type": "code",
   "execution_count": 411,
   "id": "038c5e0d",
   "metadata": {},
   "outputs": [
    {
     "data": {
      "text/plain": [
       "dtype('float64')"
      ]
     },
     "execution_count": 411,
     "metadata": {},
     "output_type": "execute_result"
    }
   ],
   "source": [
    "df_esp.dtype"
   ]
  },
  {
   "cell_type": "code",
   "execution_count": 412,
   "id": "34ef7c1d",
   "metadata": {},
   "outputs": [
    {
     "data": {
      "text/plain": [
       "SECTOR\n",
       "Agriculture       2.4\n",
       "Industry         23.2\n",
       "Manufacturing    11.4\n",
       "Services         66.3\n",
       "Name: Spain, dtype: float64"
      ]
     },
     "execution_count": 412,
     "metadata": {},
     "output_type": "execute_result"
    }
   ],
   "source": [
    "df_esp"
   ]
  },
  {
   "cell_type": "code",
   "execution_count": 299,
   "id": "efb0a38e",
   "metadata": {},
   "outputs": [],
   "source": [
    "#quitar españa del dataset para predecirlo mas tarde\n",
    "df_2010= df_2010.drop(df_2010.index[156])"
   ]
  },
  {
   "cell_type": "code",
   "execution_count": 258,
   "id": "498071ff",
   "metadata": {},
   "outputs": [
    {
     "data": {
      "text/plain": [
       "<bound method IndexOpsMixin.to_numpy of SECTOR\n",
       "Agriculture       2.4\n",
       "Industry         23.2\n",
       "Manufacturing    11.4\n",
       "Services         66.3\n",
       "Name: Spain, dtype: float64>"
      ]
     },
     "execution_count": 258,
     "metadata": {},
     "output_type": "execute_result"
    }
   ],
   "source": []
  },
  {
   "cell_type": "markdown",
   "id": "28928ce6",
   "metadata": {},
   "source": [
    "##KMEANS"
   ]
  },
  {
   "cell_type": "code",
   "execution_count": 162,
   "id": "fc8bfd64",
   "metadata": {},
   "outputs": [],
   "source": [
    "import numpy as np\n",
    "from sklearn.decomposition import PCA\n",
    "from sklearn.preprocessing import StandardScaler\n",
    "from sklearn import metrics\n",
    "from sklearn.model_selection import ParameterGrid\n",
    "from sklearn.cluster import KMeans\n",
    "from sklearn.metrics import silhouette_score\n",
    "\n"
   ]
  },
  {
   "cell_type": "code",
   "execution_count": 221,
   "id": "b8a3598b",
   "metadata": {},
   "outputs": [
    {
     "data": {
      "text/html": [
       "<div>\n",
       "<style scoped>\n",
       "    .dataframe tbody tr th:only-of-type {\n",
       "        vertical-align: middle;\n",
       "    }\n",
       "\n",
       "    .dataframe tbody tr th {\n",
       "        vertical-align: top;\n",
       "    }\n",
       "\n",
       "    .dataframe thead th {\n",
       "        text-align: right;\n",
       "    }\n",
       "</style>\n",
       "<table border=\"1\" class=\"dataframe\">\n",
       "  <thead>\n",
       "    <tr style=\"text-align: right;\">\n",
       "      <th>SECTOR</th>\n",
       "      <th>Agriculture</th>\n",
       "      <th>Industry</th>\n",
       "      <th>Manufacturing</th>\n",
       "      <th>Services</th>\n",
       "    </tr>\n",
       "  </thead>\n",
       "  <tbody>\n",
       "    <tr>\n",
       "      <th>Afghanistan</th>\n",
       "      <td>26.2</td>\n",
       "      <td>21.2</td>\n",
       "      <td>12.5</td>\n",
       "      <td>48.9</td>\n",
       "    </tr>\n",
       "    <tr>\n",
       "      <th>Albania</th>\n",
       "      <td>18.0</td>\n",
       "      <td>24.9</td>\n",
       "      <td>5.5</td>\n",
       "      <td>44.0</td>\n",
       "    </tr>\n",
       "    <tr>\n",
       "      <th>Algeria</th>\n",
       "      <td>8.5</td>\n",
       "      <td>40.0</td>\n",
       "      <td>39.0</td>\n",
       "      <td>39.2</td>\n",
       "    </tr>\n",
       "    <tr>\n",
       "      <th>Angola</th>\n",
       "      <td>6.2</td>\n",
       "      <td>52.4</td>\n",
       "      <td>4.5</td>\n",
       "      <td>41.9</td>\n",
       "    </tr>\n",
       "    <tr>\n",
       "      <th>Antigua and Barbuda</th>\n",
       "      <td>1.6</td>\n",
       "      <td>16.2</td>\n",
       "      <td>2.2</td>\n",
       "      <td>70.7</td>\n",
       "    </tr>\n",
       "    <tr>\n",
       "      <th>...</th>\n",
       "      <td>...</td>\n",
       "      <td>...</td>\n",
       "      <td>...</td>\n",
       "      <td>...</td>\n",
       "    </tr>\n",
       "    <tr>\n",
       "      <th>Latin America &amp; Caribbean</th>\n",
       "      <td>4.7</td>\n",
       "      <td>29.2</td>\n",
       "      <td>14.3</td>\n",
       "      <td>55.7</td>\n",
       "    </tr>\n",
       "    <tr>\n",
       "      <th>Middle East &amp; North Africa</th>\n",
       "      <td>5.8</td>\n",
       "      <td>44.6</td>\n",
       "      <td>11.7</td>\n",
       "      <td>46.3</td>\n",
       "    </tr>\n",
       "    <tr>\n",
       "      <th>North America</th>\n",
       "      <td>1.1</td>\n",
       "      <td>20.0</td>\n",
       "      <td>11.7</td>\n",
       "      <td>75.2</td>\n",
       "    </tr>\n",
       "    <tr>\n",
       "      <th>South Asia</th>\n",
       "      <td>17.5</td>\n",
       "      <td>29.1</td>\n",
       "      <td>16.5</td>\n",
       "      <td>46.5</td>\n",
       "    </tr>\n",
       "    <tr>\n",
       "      <th>Sub-Saharan Africa</th>\n",
       "      <td>15.7</td>\n",
       "      <td>27.2</td>\n",
       "      <td>9.9</td>\n",
       "      <td>51.1</td>\n",
       "    </tr>\n",
       "  </tbody>\n",
       "</table>\n",
       "<p>196 rows × 4 columns</p>\n",
       "</div>"
      ],
      "text/plain": [
       "SECTOR                      Agriculture  Industry  Manufacturing  Services\n",
       "Afghanistan                        26.2      21.2           12.5      48.9\n",
       "Albania                            18.0      24.9            5.5      44.0\n",
       "Algeria                             8.5      40.0           39.0      39.2\n",
       "Angola                              6.2      52.4            4.5      41.9\n",
       "Antigua and Barbuda                 1.6      16.2            2.2      70.7\n",
       "...                                 ...       ...            ...       ...\n",
       "Latin America & Caribbean           4.7      29.2           14.3      55.7\n",
       "Middle East & North Africa          5.8      44.6           11.7      46.3\n",
       "North America                       1.1      20.0           11.7      75.2\n",
       "South Asia                         17.5      29.1           16.5      46.5\n",
       "Sub-Saharan Africa                 15.7      27.2            9.9      51.1\n",
       "\n",
       "[196 rows x 4 columns]"
      ]
     },
     "execution_count": 221,
     "metadata": {},
     "output_type": "execute_result"
    }
   ],
   "source": [
    "df_2010"
   ]
  },
  {
   "cell_type": "code",
   "execution_count": 417,
   "id": "6ad8fb31",
   "metadata": {},
   "outputs": [],
   "source": [
    "#df to numpy\n",
    "df_2010_np=df_2010.to_numpy()"
   ]
  },
  {
   "cell_type": "code",
   "execution_count": 418,
   "id": "ff7fd5e8",
   "metadata": {},
   "outputs": [
    {
     "data": {
      "text/plain": [
       "array([[26.2, 21.2, 12.5, 48.9],\n",
       "       [18. , 24.9,  5.5, 44. ],\n",
       "       [ 8.5, 40. , 39. , 39.2],\n",
       "       [ 6.2, 52.4,  4.5, 41.9],\n",
       "       [ 1.6, 16.2,  2.2, 70.7],\n",
       "       [ 7.1, 25.3, 15.8, 51.5],\n",
       "       [17.9, 27.8,  9.4, 45.7],\n",
       "       [ 0.4, 16.2,  3.1, 69.6],\n",
       "       [ 2.2, 25.2,  8. , 65.7],\n",
       "       [ 1.3, 25.5, 16.5, 62.3],\n",
       "       [ 5.5, 59.8,  4.7, 27.9],\n",
       "       [ 1.1, 11.5,  2.1, 81.1],\n",
       "       [ 0.3, 45. , 14.5, 53.7],\n",
       "       [17. , 25. , 16.1, 53.5],\n",
       "       [ 8.9, 35.4, 22.5, 43.5],\n",
       "       [ 0.8, 20.9, 13.3, 67.7],\n",
       "       [11.7, 19.1, 12.4, 60.3],\n",
       "       [25.8, 18. , 11.7, 44.5],\n",
       "       [ 0.3,  6.6,  0.9, 88.9],\n",
       "       [14.8, 43.8,  8.9, 37.3],\n",
       "       [10.4, 30.1, 11.3, 43.6],\n",
       "       [ 6.8, 22.5, 10.9, 55.5],\n",
       "       [ 2.5, 31.9,  6.4, 55. ],\n",
       "       [ 4.1, 23.3, 12.7, 57.6],\n",
       "       [ 0.7, 68.7, 14.9, 32.5],\n",
       "       [24.1, 26.1, 12.1, 42.1],\n",
       "       [38.4, 15.4,  9.2, 37. ],\n",
       "       [ 8. , 18.1,  5.4, 61.2],\n",
       "       [33.9, 21.9, 14.7, 38.3],\n",
       "       [17.3, 25.8, 14.5, 50.6],\n",
       "       [ 1.5, 26.4, 10. , 65.7],\n",
       "       [ 0.3,  7.1,  0.8, 87.6],\n",
       "       [37.4, 24.5, 18.4, 29.3],\n",
       "       [51.9, 12. ,  1. , 33.4],\n",
       "       [ 3.6, 35.7, 10.8, 52.8],\n",
       "       [ 9.3, 46.5, 31.6, 44.2],\n",
       "       [ 0.1,  6.8,  1.7, 90.9],\n",
       "       [ 6.3, 31.4, 14. , 53.4],\n",
       "       [21.4, 38.7, 16.2, 35.4],\n",
       "       [ 4. , 66.2,  5.3, 25.4],\n",
       "       [ 6.5, 23.3, 14.6, 61.9],\n",
       "       [17.5, 16. ,  9. , 37.8],\n",
       "       [ 3.7, 21.4, 13. , 59.8],\n",
       "       [ 3.6, 22.9, 15.6, 72.5],\n",
       "       [ 0.4, 15. ,  6.1, 77. ],\n",
       "       [ 2.1, 14.5,  5.1, 71.6],\n",
       "       [ 1.5, 33.2, 21. , 55.8],\n",
       "       [ 1.2, 19.7, 10.9, 65.4],\n",
       "       [11.5, 11.7,  2.4, 60.3],\n",
       "       [ 6.1, 27.9, 15.3, 59.3],\n",
       "       [ 9.7, 34.7, 13.4, 51.1],\n",
       "       [13.3, 35.8, 16.1, 46.2],\n",
       "       [ 7. , 25.3, 16.1, 59.5],\n",
       "       [ 1.1, 74.7, 21. , 24.7],\n",
       "       [ 3.2, 24.4, 13.7, 59.9],\n",
       "       [10.2, 37.7, 32.5, 49.6],\n",
       "       [41.4,  9.4,  4. , 41.8],\n",
       "       [14.7, 14.2,  5.5, 58.3],\n",
       "       [ 9.4, 17. , 12.3, 57.5],\n",
       "       [ 2.4, 26.2, 17. , 58.9],\n",
       "       [ 1.6, 17.8, 10.3, 70.7],\n",
       "       [ 3.9, 55.2, 17.1, 30.8],\n",
       "       [35.2,  9.8,  4.6, 49.2],\n",
       "       [ 8.5, 16.9,  9.1, 63.1],\n",
       "       [ 0.8, 26.8, 19.7, 62.3],\n",
       "       [28. , 18. ,  6.4, 48.2],\n",
       "       [ 3. , 14.9,  7.9, 70.3],\n",
       "       [13.4, 18.1,  4.3, 65.6],\n",
       "       [ 4.5, 14.7,  3.5, 68.4],\n",
       "       [11.2, 27.5, 18.9, 59.5],\n",
       "       [17.5, 32.3, 10.6, 43.4],\n",
       "       [45.1, 13.1, 11.3, 39.4],\n",
       "       [28.5, 24.9,  5.7, 41.6],\n",
       "       [20.2, 23.5, 14.5, 52.5],\n",
       "       [11.6, 25.6, 16.5, 60.6],\n",
       "       [ 3. , 25.2, 18.1, 56.7],\n",
       "       [ 6.3, 22. , 13. , 61.9],\n",
       "       [17. , 30.7, 17. , 45. ],\n",
       "       [13.9, 42.8, 22. , 40.7],\n",
       "       [ 6.5, 44.2, 12.8, 51.1],\n",
       "       [ 5.2, 55.8,  2.3, 39.7],\n",
       "       [ 1. , 23.3, 19.5, 66.7],\n",
       "       [ 0.6,  9.2,  3.6, 93. ],\n",
       "       [ 1.6, 20.8, 14.1, 66.8],\n",
       "       [ 1.8, 21.9, 14.2, 66.3],\n",
       "       [ 5.3, 18. ,  7.8, 66.5],\n",
       "       [ 1.1, 28.3, 20.8, 70.5],\n",
       "       [ 3.6, 26.3, 18.9, 59.1],\n",
       "       [ 4.5, 40.6, 11.3, 51.7],\n",
       "       [17.6, 18.6, 11.2, 57. ],\n",
       "       [24.1, 11.9,  5.6, 63.5],\n",
       "       [ 2.1, 34.1, 27.4, 54.7],\n",
       "       [ 9.5, 27. , 13.8, 45.9],\n",
       "       [ 0.5, 66.1,  6. , 47. ],\n",
       "       [17.4, 26.3, 16.9, 49.3],\n",
       "       [22.6, 30.5, 11.1, 43.6],\n",
       "       [ 4.1, 20.4, 11.9, 64.5],\n",
       "       [ 3.9, 13.8,  7.7, 71.9],\n",
       "       [ 4.9, 31.5, 13.1, 53.8],\n",
       "       [44.8,  5. ,  2.6, 50.2],\n",
       "       [ 3. , 26.2, 16.9, 60.7],\n",
       "       [ 0.3, 11. ,  5. , 78.9],\n",
       "       [29.1, 18. ,  9. , 48.8],\n",
       "       [29.6, 15.2,  9.9, 47.9],\n",
       "       [10.1, 40.5, 23.4, 48.5],\n",
       "       [ 5.6,  9.4,  2.3, 77.7],\n",
       "       [33. , 22.7,  6.7, 35.5],\n",
       "       [ 1.3, 17.6, 11.2, 69.3],\n",
       "       [11.6, 13.7,  3.7, 71.5],\n",
       "       [16.7, 38.2,  6.7, 39.9],\n",
       "       [ 3.6, 22.5, 14.2, 62.9],\n",
       "       [ 3.2, 32.4, 15.6, 60.4],\n",
       "       [24.7,  7.2,  0.4, 60.7],\n",
       "       [11.2, 20.4, 10. , 54.5],\n",
       "       [11.7, 33.2,  6.8, 44.8],\n",
       "       [ 7.7, 17.1,  4.6, 58.6],\n",
       "       [12.9, 25.7, 15.6, 51. ],\n",
       "       [26.8, 16.4, 10. , 47. ],\n",
       "       [37.4, 25.6, 19. , 37. ],\n",
       "       [ 8.5, 27.4, 12.3, 54. ],\n",
       "       [33.2, 14.2,  5.9, 46.4],\n",
       "       [ 1.8, 19.7, 10.5, 68.4],\n",
       "       [ 1.3, 26.2,  5.6, 64.9],\n",
       "       [ 6.6, 21.2, 10.8, 64.4],\n",
       "       [17. , 22. , 14.3, 51.7],\n",
       "       [35.8, 23. ,  6.9, 35.1],\n",
       "       [23.9, 25.3,  6.6, 50.8],\n",
       "       [10.1, 21. ,  9.9, 55.1],\n",
       "       [ 1.6, 34.8,  7.2, 52.7],\n",
       "       [ 1.2, 63.3, 10. , 39.9],\n",
       "       [23.3, 19.7, 13.1, 52.8],\n",
       "       [ 3.8,  9.3,  0.8, 76.7],\n",
       "       [ 3.6, 18.4,  7.1, 72.9],\n",
       "       [19.6, 33.2,  2.4, 44.1],\n",
       "       [13.3, 34.3, 18.6, 45.3],\n",
       "       [ 6.8, 35.8, 15.6, 48.9],\n",
       "       [13.7, 32.3, 21.9, 53.9],\n",
       "       [ 2.9, 28.9, 15.3, 56.3],\n",
       "       [ 1.9, 20. , 11.6, 66.1],\n",
       "       [ 0.8, 50.9, 47.3, 48.6],\n",
       "       [ 0.1, 73.2, 12.5, 28.6],\n",
       "       [ 5. , 38. , 23. , 46.2],\n",
       "       [ 3.3, 30. , 12.8, 53.1],\n",
       "       [24.3, 16.3,  8.2, 49.9],\n",
       "       [10.4, 17.8, 10.2, 71.8],\n",
       "       [11.3, 17.4,  8.5, 67.1],\n",
       "       [ 2.6, 58.4, 11. , 39.2],\n",
       "       [15.9, 21.8, 15.6, 52.4],\n",
       "       [ 6.6, 25.3, 15.3, 51.7],\n",
       "       [ 2.3, 14. ,  8. , 68.5],\n",
       "       [52.9,  7.8,  2.2, 35.3],\n",
       "       [ 0.1, 12.9,  1.5, 77.8],\n",
       "       [ 1.6, 30.6, 18. , 58.4],\n",
       "       [ 1.9, 26.5, 17.5, 58.8],\n",
       "       [ 2.1, 25.3, 13.9, 64.3],\n",
       "       [ 5.3, 61.1,  2.3, 33.6],\n",
       "       [ 2.4, 23.2, 11.4, 66.3],\n",
       "       [ 8.5, 26.6, 18.1, 54.6],\n",
       "       [ 1.3, 23.1,  8.5, 67.4],\n",
       "       [ 2.7, 11.9,  3.4, 73.9],\n",
       "       [ 6.1, 16.5,  4.8, 63.2],\n",
       "       [31.9, 21.1,  5.1, 30.8],\n",
       "       [ 9.5, 35.2, 21. , 48.2],\n",
       "       [ 1.6, 23.8, 14.7, 62.8],\n",
       "       [ 0.7, 24.9, 18.2, 70.8],\n",
       "       [19.6, 25. ,  9.7, 45.1],\n",
       "       [25.6, 23.6,  8.7, 43.3],\n",
       "       [10.5, 39.9, 30.9, 49.6],\n",
       "       [25.6,  9.1,  1. , 68.9],\n",
       "       [28.7, 15. ,  7.2, 56.3],\n",
       "       [16.4, 18. ,  6. , 53.6],\n",
       "       [ 0.5, 53.8, 19.2, 45.5],\n",
       "       [ 6.8, 29.5, 15.7, 55.9],\n",
       "       [ 9. , 24.5, 15.1, 54.5],\n",
       "       [ 0.6, 11.9,  1.3, 83.4],\n",
       "       [32.3, 24.7, 16.7, 44.8],\n",
       "       [ 7.4, 25.6, 13.1, 55.5],\n",
       "       [ 0.8, 52.5,  7.9, 46.7],\n",
       "       [ 0.6, 18.9,  9.5, 70.6],\n",
       "       [ 1. , 19.4, 11.9, 76.2],\n",
       "       [ 7.2, 24.5, 13.5, 58.2],\n",
       "       [26.9, 21.2, 10.2, 39.9],\n",
       "       [19.5, 12.9,  5. , 61.7],\n",
       "       [ 5.4, 48.4, 11.9, 39. ],\n",
       "       [18.4, 32.1, 12.9, 36.9],\n",
       "       [ 9. , 18.6, 12.2, 57.7],\n",
       "       [ 8.2, 43.8,  8. , 27.4],\n",
       "       [ 9.4, 32.2,  7.6, 52.8],\n",
       "       [ 9.6, 20.7,  9.2, 57.8],\n",
       "       [ 3.9, 27.5, 15.9, 62.7],\n",
       "       [ 5.5, 35.9, 24.3, 57. ],\n",
       "       [ 2.1, 23.6, 13.7, 64. ],\n",
       "       [ 4.7, 29.2, 14.3, 55.7],\n",
       "       [ 5.8, 44.6, 11.7, 46.3],\n",
       "       [ 1.1, 20. , 11.7, 75.2],\n",
       "       [17.5, 29.1, 16.5, 46.5],\n",
       "       [15.7, 27.2,  9.9, 51.1]])"
      ]
     },
     "execution_count": 418,
     "metadata": {},
     "output_type": "execute_result"
    }
   ],
   "source": [
    "df_2010_np"
   ]
  },
  {
   "cell_type": "code",
   "execution_count": 419,
   "id": "3c4ead78",
   "metadata": {},
   "outputs": [
    {
     "name": "stdout",
     "output_type": "stream",
     "text": [
      "For n_clusters = 2, silhouette score is 0.32979957791924186)\n",
      "For n_clusters = 3, silhouette score is 0.4020623605394535)\n",
      "For n_clusters = 4, silhouette score is 0.35594330806789043)\n",
      "For n_clusters = 5, silhouette score is 0.3199355710355536)\n",
      "For n_clusters = 6, silhouette score is 0.3173621306934949)\n",
      "For n_clusters = 7, silhouette score is 0.3347821527067797)\n",
      "For n_clusters = 8, silhouette score is 0.31113599814197906)\n",
      "For n_clusters = 9, silhouette score is 0.3055190841843542)\n"
     ]
    }
   ],
   "source": [
    "# BUSCAR EL MEJOR K\n",
    "range_n_clusters= list(range(2,10))\n",
    "for n_clusters in range_n_clusters:\n",
    "    clusterer = KMeans (n_clusters=n_clusters).fit(df_2010_np)\n",
    "    preds = clusterer.predict(df_2010_np)\n",
    "    centers = clusterer.cluster_centers_\n",
    "    score = silhouette_score(df_2010_np, preds)\n",
    "    print(\"For n_clusters = {}, silhouette score is {})\".format(n_clusters, score))"
   ]
  },
  {
   "cell_type": "code",
   "execution_count": 420,
   "id": "b29d6556",
   "metadata": {},
   "outputs": [],
   "source": [
    "kmeans= KMeans(n_clusters=3)\n",
    "kmeans.fit(df_2010_np)\n",
    "pred=kmeans.predict(df_2010_np)\n",
    "\n",
    "\n"
   ]
  },
  {
   "cell_type": "code",
   "execution_count": 422,
   "id": "5a0615e4",
   "metadata": {},
   "outputs": [
    {
     "data": {
      "text/plain": [
       "array([1, 1, 2, 2, 0, 0, 1, 0, 0, 0, 2, 0, 2, 1, 2, 0, 0, 1, 0, 2, 2, 0,\n",
       "       0, 0, 2, 1, 1, 0, 1, 1, 0, 0, 1, 1, 2, 2, 0, 0, 2, 2, 0, 1, 0, 0,\n",
       "       0, 0, 0, 0, 0, 0, 2, 2, 0, 2, 0, 2, 1, 0, 0, 0, 0, 2, 1, 0, 0, 1,\n",
       "       0, 0, 0, 0, 1, 1, 1, 1, 0, 0, 0, 1, 2, 2, 2, 0, 0, 0, 0, 0, 0, 0,\n",
       "       2, 1, 1, 2, 1, 2, 1, 1, 0, 0, 0, 1, 0, 0, 1, 1, 2, 0, 1, 0, 0, 2,\n",
       "       0, 0, 1, 0, 2, 0, 1, 1, 1, 0, 1, 0, 0, 0, 1, 1, 1, 0, 2, 2, 1, 0,\n",
       "       0, 1, 2, 2, 2, 0, 0, 2, 2, 2, 0, 1, 0, 0, 2, 1, 0, 0, 1, 0, 0, 0,\n",
       "       0, 2, 0, 0, 0, 0, 0, 1, 2, 0, 0, 1, 1, 2, 0, 1, 1, 2, 0, 0, 0, 1,\n",
       "       0, 2, 0, 0, 0, 1, 0, 2, 1, 0, 2, 0, 0, 0, 2, 0, 0, 2, 0, 1, 1])"
      ]
     },
     "execution_count": 422,
     "metadata": {},
     "output_type": "execute_result"
    }
   ],
   "source": [
    "#a que cluer ha sido asignado cada fila (instancia)\n",
    "pred"
   ]
  },
  {
   "cell_type": "code",
   "execution_count": 423,
   "id": "8d29f7f9",
   "metadata": {},
   "outputs": [
    {
     "data": {
      "text/plain": [
       "False"
      ]
     },
     "execution_count": 423,
     "metadata": {},
     "output_type": "execute_result"
    }
   ],
   "source": [
    "pred is kmeans.labels_"
   ]
  },
  {
   "cell_type": "code",
   "execution_count": 424,
   "id": "c9e6056d",
   "metadata": {},
   "outputs": [
    {
     "data": {
      "text/plain": [
       "array([[ 4.84752475, 20.93069307, 10.6990099 , 64.9029703 ],\n",
       "       [26.28269231, 20.975     ,  9.96346154, 45.58461538],\n",
       "       [ 6.80909091, 46.18409091, 16.075     , 43.05681818]])"
      ]
     },
     "execution_count": 424,
     "metadata": {},
     "output_type": "execute_result"
    }
   ],
   "source": [
    "#centroides de los clusters\n",
    "kmeans.cluster_centers_\n"
   ]
  },
  {
   "cell_type": "code",
   "execution_count": 425,
   "id": "4a04c969",
   "metadata": {},
   "outputs": [
    {
     "data": {
      "text/plain": [
       "array([1, 1, 2, 2, 0, 0, 1, 0, 0, 0, 2, 0, 2, 1, 2, 0, 0, 1, 0, 2, 2, 0,\n",
       "       0, 0, 2, 1, 1, 0, 1, 1, 0, 0, 1, 1, 2, 2, 0, 0, 2, 2, 0, 1, 0, 0,\n",
       "       0, 0, 0, 0, 0, 0, 2, 2, 0, 2, 0, 2, 1, 0, 0, 0, 0, 2, 1, 0, 0, 1,\n",
       "       0, 0, 0, 0, 1, 1, 1, 1, 0, 0, 0, 1, 2, 2, 2, 0, 0, 0, 0, 0, 0, 0,\n",
       "       2, 1, 1, 2, 1, 2, 1, 1, 0, 0, 0, 1, 0, 0, 1, 1, 2, 0, 1, 0, 0, 2,\n",
       "       0, 0, 1, 0, 2, 0, 1, 1, 1, 0, 1, 0, 0, 0, 1, 1, 1, 0, 2, 2, 1, 0,\n",
       "       0, 1, 2, 2, 2, 0, 0, 2, 2, 2, 0, 1, 0, 0, 2, 1, 0, 0, 1, 0, 0, 0,\n",
       "       0, 2, 0, 0, 0, 0, 0, 1, 2, 0, 0, 1, 1, 2, 0, 1, 1, 2, 0, 0, 0, 1,\n",
       "       0, 2, 0, 0, 0, 1, 0, 2, 1, 0, 2, 0, 0, 0, 2, 0, 0, 2, 0, 1, 1])"
      ]
     },
     "execution_count": 425,
     "metadata": {},
     "output_type": "execute_result"
    }
   ],
   "source": [
    "kmeans.labels_"
   ]
  },
  {
   "cell_type": "code",
   "execution_count": 426,
   "id": "fc7dedb0",
   "metadata": {},
   "outputs": [
    {
     "data": {
      "text/plain": [
       "SECTOR\n",
       "Agriculture       2.4\n",
       "Industry         23.2\n",
       "Manufacturing    11.4\n",
       "Services         66.3\n",
       "Name: Spain, dtype: float64"
      ]
     },
     "execution_count": 426,
     "metadata": {},
     "output_type": "execute_result"
    }
   ],
   "source": [
    "df_esp"
   ]
  },
  {
   "cell_type": "code",
   "execution_count": 427,
   "id": "00182f4d",
   "metadata": {},
   "outputs": [
    {
     "ename": "ValueError",
     "evalue": "Expected 2D array, got 1D array instead:\narray=[ 2.4 23.2 11.4 66.3].\nReshape your data either using array.reshape(-1, 1) if your data has a single feature or array.reshape(1, -1) if it contains a single sample.",
     "output_type": "error",
     "traceback": [
      "\u001b[1;31m---------------------------------------------------------------------------\u001b[0m",
      "\u001b[1;31mValueError\u001b[0m                                Traceback (most recent call last)",
      "\u001b[1;32m<ipython-input-427-ac302860ea8c>\u001b[0m in \u001b[0;36m<module>\u001b[1;34m\u001b[0m\n\u001b[0;32m      1\u001b[0m \u001b[1;31m#predecimos el cluster de españa\u001b[0m\u001b[1;33m\u001b[0m\u001b[1;33m\u001b[0m\u001b[1;33m\u001b[0m\u001b[0m\n\u001b[1;32m----> 2\u001b[1;33m \u001b[0mpred_esp\u001b[0m \u001b[1;33m=\u001b[0m\u001b[0mkmeans\u001b[0m\u001b[1;33m.\u001b[0m\u001b[0mpredict\u001b[0m\u001b[1;33m(\u001b[0m\u001b[0mdf_esp\u001b[0m\u001b[1;33m)\u001b[0m\u001b[1;33m\u001b[0m\u001b[1;33m\u001b[0m\u001b[0m\n\u001b[0m",
      "\u001b[1;32m~\\anaconda3\\lib\\site-packages\\sklearn\\cluster\\_kmeans.py\u001b[0m in \u001b[0;36mpredict\u001b[1;34m(self, X, sample_weight)\u001b[0m\n\u001b[0;32m   1154\u001b[0m         \u001b[0mcheck_is_fitted\u001b[0m\u001b[1;33m(\u001b[0m\u001b[0mself\u001b[0m\u001b[1;33m)\u001b[0m\u001b[1;33m\u001b[0m\u001b[1;33m\u001b[0m\u001b[0m\n\u001b[0;32m   1155\u001b[0m \u001b[1;33m\u001b[0m\u001b[0m\n\u001b[1;32m-> 1156\u001b[1;33m         \u001b[0mX\u001b[0m \u001b[1;33m=\u001b[0m \u001b[0mself\u001b[0m\u001b[1;33m.\u001b[0m\u001b[0m_check_test_data\u001b[0m\u001b[1;33m(\u001b[0m\u001b[0mX\u001b[0m\u001b[1;33m)\u001b[0m\u001b[1;33m\u001b[0m\u001b[1;33m\u001b[0m\u001b[0m\n\u001b[0m\u001b[0;32m   1157\u001b[0m         \u001b[0mx_squared_norms\u001b[0m \u001b[1;33m=\u001b[0m \u001b[0mrow_norms\u001b[0m\u001b[1;33m(\u001b[0m\u001b[0mX\u001b[0m\u001b[1;33m,\u001b[0m \u001b[0msquared\u001b[0m\u001b[1;33m=\u001b[0m\u001b[1;32mTrue\u001b[0m\u001b[1;33m)\u001b[0m\u001b[1;33m\u001b[0m\u001b[1;33m\u001b[0m\u001b[0m\n\u001b[0;32m   1158\u001b[0m         \u001b[0msample_weight\u001b[0m \u001b[1;33m=\u001b[0m \u001b[0m_check_sample_weight\u001b[0m\u001b[1;33m(\u001b[0m\u001b[0msample_weight\u001b[0m\u001b[1;33m,\u001b[0m \u001b[0mX\u001b[0m\u001b[1;33m,\u001b[0m \u001b[0mdtype\u001b[0m\u001b[1;33m=\u001b[0m\u001b[0mX\u001b[0m\u001b[1;33m.\u001b[0m\u001b[0mdtype\u001b[0m\u001b[1;33m)\u001b[0m\u001b[1;33m\u001b[0m\u001b[1;33m\u001b[0m\u001b[0m\n",
      "\u001b[1;32m~\\anaconda3\\lib\\site-packages\\sklearn\\cluster\\_kmeans.py\u001b[0m in \u001b[0;36m_check_test_data\u001b[1;34m(self, X)\u001b[0m\n\u001b[0;32m    856\u001b[0m \u001b[1;33m\u001b[0m\u001b[0m\n\u001b[0;32m    857\u001b[0m     \u001b[1;32mdef\u001b[0m \u001b[0m_check_test_data\u001b[0m\u001b[1;33m(\u001b[0m\u001b[0mself\u001b[0m\u001b[1;33m,\u001b[0m \u001b[0mX\u001b[0m\u001b[1;33m)\u001b[0m\u001b[1;33m:\u001b[0m\u001b[1;33m\u001b[0m\u001b[1;33m\u001b[0m\u001b[0m\n\u001b[1;32m--> 858\u001b[1;33m         X = self._validate_data(X, accept_sparse='csr', reset=False,\n\u001b[0m\u001b[0;32m    859\u001b[0m                                 \u001b[0mdtype\u001b[0m\u001b[1;33m=\u001b[0m\u001b[1;33m[\u001b[0m\u001b[0mnp\u001b[0m\u001b[1;33m.\u001b[0m\u001b[0mfloat64\u001b[0m\u001b[1;33m,\u001b[0m \u001b[0mnp\u001b[0m\u001b[1;33m.\u001b[0m\u001b[0mfloat32\u001b[0m\u001b[1;33m]\u001b[0m\u001b[1;33m,\u001b[0m\u001b[1;33m\u001b[0m\u001b[1;33m\u001b[0m\u001b[0m\n\u001b[0;32m    860\u001b[0m                                 order='C', accept_large_sparse=False)\n",
      "\u001b[1;32m~\\anaconda3\\lib\\site-packages\\sklearn\\base.py\u001b[0m in \u001b[0;36m_validate_data\u001b[1;34m(self, X, y, reset, validate_separately, **check_params)\u001b[0m\n\u001b[0;32m    419\u001b[0m             \u001b[0mout\u001b[0m \u001b[1;33m=\u001b[0m \u001b[0mX\u001b[0m\u001b[1;33m\u001b[0m\u001b[1;33m\u001b[0m\u001b[0m\n\u001b[0;32m    420\u001b[0m         \u001b[1;32melif\u001b[0m \u001b[0misinstance\u001b[0m\u001b[1;33m(\u001b[0m\u001b[0my\u001b[0m\u001b[1;33m,\u001b[0m \u001b[0mstr\u001b[0m\u001b[1;33m)\u001b[0m \u001b[1;32mand\u001b[0m \u001b[0my\u001b[0m \u001b[1;33m==\u001b[0m \u001b[1;34m'no_validation'\u001b[0m\u001b[1;33m:\u001b[0m\u001b[1;33m\u001b[0m\u001b[1;33m\u001b[0m\u001b[0m\n\u001b[1;32m--> 421\u001b[1;33m             \u001b[0mX\u001b[0m \u001b[1;33m=\u001b[0m \u001b[0mcheck_array\u001b[0m\u001b[1;33m(\u001b[0m\u001b[0mX\u001b[0m\u001b[1;33m,\u001b[0m \u001b[1;33m**\u001b[0m\u001b[0mcheck_params\u001b[0m\u001b[1;33m)\u001b[0m\u001b[1;33m\u001b[0m\u001b[1;33m\u001b[0m\u001b[0m\n\u001b[0m\u001b[0;32m    422\u001b[0m             \u001b[0mout\u001b[0m \u001b[1;33m=\u001b[0m \u001b[0mX\u001b[0m\u001b[1;33m\u001b[0m\u001b[1;33m\u001b[0m\u001b[0m\n\u001b[0;32m    423\u001b[0m         \u001b[1;32melse\u001b[0m\u001b[1;33m:\u001b[0m\u001b[1;33m\u001b[0m\u001b[1;33m\u001b[0m\u001b[0m\n",
      "\u001b[1;32m~\\anaconda3\\lib\\site-packages\\sklearn\\utils\\validation.py\u001b[0m in \u001b[0;36minner_f\u001b[1;34m(*args, **kwargs)\u001b[0m\n\u001b[0;32m     61\u001b[0m             \u001b[0mextra_args\u001b[0m \u001b[1;33m=\u001b[0m \u001b[0mlen\u001b[0m\u001b[1;33m(\u001b[0m\u001b[0margs\u001b[0m\u001b[1;33m)\u001b[0m \u001b[1;33m-\u001b[0m \u001b[0mlen\u001b[0m\u001b[1;33m(\u001b[0m\u001b[0mall_args\u001b[0m\u001b[1;33m)\u001b[0m\u001b[1;33m\u001b[0m\u001b[1;33m\u001b[0m\u001b[0m\n\u001b[0;32m     62\u001b[0m             \u001b[1;32mif\u001b[0m \u001b[0mextra_args\u001b[0m \u001b[1;33m<=\u001b[0m \u001b[1;36m0\u001b[0m\u001b[1;33m:\u001b[0m\u001b[1;33m\u001b[0m\u001b[1;33m\u001b[0m\u001b[0m\n\u001b[1;32m---> 63\u001b[1;33m                 \u001b[1;32mreturn\u001b[0m \u001b[0mf\u001b[0m\u001b[1;33m(\u001b[0m\u001b[1;33m*\u001b[0m\u001b[0margs\u001b[0m\u001b[1;33m,\u001b[0m \u001b[1;33m**\u001b[0m\u001b[0mkwargs\u001b[0m\u001b[1;33m)\u001b[0m\u001b[1;33m\u001b[0m\u001b[1;33m\u001b[0m\u001b[0m\n\u001b[0m\u001b[0;32m     64\u001b[0m \u001b[1;33m\u001b[0m\u001b[0m\n\u001b[0;32m     65\u001b[0m             \u001b[1;31m# extra_args > 0\u001b[0m\u001b[1;33m\u001b[0m\u001b[1;33m\u001b[0m\u001b[1;33m\u001b[0m\u001b[0m\n",
      "\u001b[1;32m~\\anaconda3\\lib\\site-packages\\sklearn\\utils\\validation.py\u001b[0m in \u001b[0;36mcheck_array\u001b[1;34m(array, accept_sparse, accept_large_sparse, dtype, order, copy, force_all_finite, ensure_2d, allow_nd, ensure_min_samples, ensure_min_features, estimator)\u001b[0m\n\u001b[0;32m    635\u001b[0m             \u001b[1;31m# If input is 1D raise error\u001b[0m\u001b[1;33m\u001b[0m\u001b[1;33m\u001b[0m\u001b[1;33m\u001b[0m\u001b[0m\n\u001b[0;32m    636\u001b[0m             \u001b[1;32mif\u001b[0m \u001b[0marray\u001b[0m\u001b[1;33m.\u001b[0m\u001b[0mndim\u001b[0m \u001b[1;33m==\u001b[0m \u001b[1;36m1\u001b[0m\u001b[1;33m:\u001b[0m\u001b[1;33m\u001b[0m\u001b[1;33m\u001b[0m\u001b[0m\n\u001b[1;32m--> 637\u001b[1;33m                 raise ValueError(\n\u001b[0m\u001b[0;32m    638\u001b[0m                     \u001b[1;34m\"Expected 2D array, got 1D array instead:\\narray={}.\\n\"\u001b[0m\u001b[1;33m\u001b[0m\u001b[1;33m\u001b[0m\u001b[0m\n\u001b[0;32m    639\u001b[0m                     \u001b[1;34m\"Reshape your data either using array.reshape(-1, 1) if \"\u001b[0m\u001b[1;33m\u001b[0m\u001b[1;33m\u001b[0m\u001b[0m\n",
      "\u001b[1;31mValueError\u001b[0m: Expected 2D array, got 1D array instead:\narray=[ 2.4 23.2 11.4 66.3].\nReshape your data either using array.reshape(-1, 1) if your data has a single feature or array.reshape(1, -1) if it contains a single sample."
     ]
    }
   ],
   "source": [
    "#predecimos el cluster de españa\n",
    "pred_esp =kmeans.predict(df_esp)"
   ]
  }
 ],
 "metadata": {
  "interpreter": {
   "hash": "2fcce922fe50eb1904bd60f0fb2c9b28ec67322cdf7edd0fffb5da479a131337"
  },
  "kernelspec": {
   "display_name": "gpu2",
   "language": "python",
   "name": "python3"
  },
  "language_info": {
   "codemirror_mode": {
    "name": "ipython",
    "version": 3
   },
   "file_extension": ".py",
   "mimetype": "text/x-python",
   "name": "python",
   "nbconvert_exporter": "python",
   "pygments_lexer": "ipython3",
   "version": "3.8.8"
  }
 },
 "nbformat": 4,
 "nbformat_minor": 5
}
